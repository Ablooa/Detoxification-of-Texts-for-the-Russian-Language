{
  "cells": [
    {
      "cell_type": "markdown",
      "metadata": {
        "id": "7jXJMNvPXLir"
      },
      "source": [
        "# Preprocess"
      ]
    },
    {
      "cell_type": "code",
      "execution_count": 1,
      "metadata": {
        "colab": {
          "base_uri": "https://localhost:8080/"
        },
        "collapsed": true,
        "execution": {
          "iopub.execute_input": "2023-06-26T22:21:58.154410Z",
          "iopub.status.busy": "2023-06-26T22:21:58.154001Z",
          "iopub.status.idle": "2023-06-26T22:22:12.594479Z",
          "shell.execute_reply": "2023-06-26T22:22:12.593117Z",
          "shell.execute_reply.started": "2023-06-26T22:21:58.154380Z"
        },
        "id": "12SXCYU71Ht9",
        "outputId": "2d6c79e6-2313-4291-e65b-353cb7267cb8"
      },
      "outputs": [
        {
          "output_type": "stream",
          "name": "stdout",
          "text": [
            "Looking in indexes: https://pypi.org/simple, https://us-python.pkg.dev/colab-wheels/public/simple/\n",
            "Requirement already satisfied: pymystem3 in /usr/local/lib/python3.10/dist-packages (0.2.0)\n",
            "Requirement already satisfied: requests in /usr/local/lib/python3.10/dist-packages (from pymystem3) (2.27.1)\n",
            "Requirement already satisfied: urllib3<1.27,>=1.21.1 in /usr/local/lib/python3.10/dist-packages (from requests->pymystem3) (1.26.16)\n",
            "Requirement already satisfied: certifi>=2017.4.17 in /usr/local/lib/python3.10/dist-packages (from requests->pymystem3) (2023.5.7)\n",
            "Requirement already satisfied: charset-normalizer~=2.0.0 in /usr/local/lib/python3.10/dist-packages (from requests->pymystem3) (2.0.12)\n",
            "Requirement already satisfied: idna<4,>=2.5 in /usr/local/lib/python3.10/dist-packages (from requests->pymystem3) (3.4)\n"
          ]
        }
      ],
      "source": [
        "!pip install pymystem3"
      ]
    },
    {
      "cell_type": "code",
      "execution_count": 2,
      "metadata": {
        "execution": {
          "iopub.execute_input": "2023-06-26T22:22:12.599267Z",
          "iopub.status.busy": "2023-06-26T22:22:12.598901Z",
          "iopub.status.idle": "2023-06-26T22:22:13.827044Z",
          "shell.execute_reply": "2023-06-26T22:22:13.825917Z",
          "shell.execute_reply.started": "2023-06-26T22:22:12.599237Z"
        },
        "id": "fYohyBkM1HuA"
      },
      "outputs": [],
      "source": [
        "import numpy as np\n",
        "import pandas as pd\n",
        "import scipy\n",
        "import nltk\n",
        "import re\n",
        "from nltk.tokenize import word_tokenize\n",
        "from pymystem3 import Mystem\n",
        "from tqdm import tqdm\n",
        "from sklearn.model_selection import train_test_split\n",
        "from sklearn.feature_extraction.text import TfidfVectorizer\n",
        "from sklearn.linear_model import LogisticRegression\n",
        "from sklearn.metrics import balanced_accuracy_score"
      ]
    },
    {
      "cell_type": "code",
      "execution_count": 3,
      "metadata": {
        "execution": {
          "iopub.execute_input": "2023-06-26T22:22:13.831169Z",
          "iopub.status.busy": "2023-06-26T22:22:13.830142Z",
          "iopub.status.idle": "2023-06-26T22:22:13.897823Z",
          "shell.execute_reply": "2023-06-26T22:22:13.896738Z",
          "shell.execute_reply.started": "2023-06-26T22:22:13.831132Z"
        },
        "id": "_4ZqrrLb1HuB"
      },
      "outputs": [],
      "source": [
        "%load_ext autoreload\n",
        "%autoreload 2"
      ]
    },
    {
      "cell_type": "code",
      "execution_count": 5,
      "metadata": {
        "colab": {
          "base_uri": "https://localhost:8080/",
          "height": 206
        },
        "execution": {
          "iopub.execute_input": "2023-06-26T22:22:13.903163Z",
          "iopub.status.busy": "2023-06-26T22:22:13.902797Z",
          "iopub.status.idle": "2023-06-26T22:22:14.913131Z",
          "shell.execute_reply": "2023-06-26T22:22:14.912033Z",
          "shell.execute_reply.started": "2023-06-26T22:22:13.903131Z"
        },
        "id": "B02OSCQ91HuB",
        "outputId": "49b6be36-a820-4cb3-a1e7-1550fc41e4da"
      },
      "outputs": [
        {
          "output_type": "execute_result",
          "data": {
            "text/plain": [
              "                                             comment  toxic\n",
              "0                     дворника надо тоже уничтожить!    1.0\n",
              "1  моя старшая неделю шипела, не принимала подкид...    0.0\n",
              "2                         полностью с вами согласна!    0.0\n",
              "3               хоть ногу вверх, ничего не изменится    0.0\n",
              "4                     а что значит - левого ребенка?    0.0"
            ],
            "text/html": [
              "\n",
              "  <div id=\"df-094a69d5-805c-415b-8089-94c2601a88cb\">\n",
              "    <div class=\"colab-df-container\">\n",
              "      <div>\n",
              "<style scoped>\n",
              "    .dataframe tbody tr th:only-of-type {\n",
              "        vertical-align: middle;\n",
              "    }\n",
              "\n",
              "    .dataframe tbody tr th {\n",
              "        vertical-align: top;\n",
              "    }\n",
              "\n",
              "    .dataframe thead th {\n",
              "        text-align: right;\n",
              "    }\n",
              "</style>\n",
              "<table border=\"1\" class=\"dataframe\">\n",
              "  <thead>\n",
              "    <tr style=\"text-align: right;\">\n",
              "      <th></th>\n",
              "      <th>comment</th>\n",
              "      <th>toxic</th>\n",
              "    </tr>\n",
              "  </thead>\n",
              "  <tbody>\n",
              "    <tr>\n",
              "      <th>0</th>\n",
              "      <td>дворника надо тоже уничтожить!</td>\n",
              "      <td>1.0</td>\n",
              "    </tr>\n",
              "    <tr>\n",
              "      <th>1</th>\n",
              "      <td>моя старшая неделю шипела, не принимала подкид...</td>\n",
              "      <td>0.0</td>\n",
              "    </tr>\n",
              "    <tr>\n",
              "      <th>2</th>\n",
              "      <td>полностью с вами согласна!</td>\n",
              "      <td>0.0</td>\n",
              "    </tr>\n",
              "    <tr>\n",
              "      <th>3</th>\n",
              "      <td>хоть ногу вверх, ничего не изменится</td>\n",
              "      <td>0.0</td>\n",
              "    </tr>\n",
              "    <tr>\n",
              "      <th>4</th>\n",
              "      <td>а что значит - левого ребенка?</td>\n",
              "      <td>0.0</td>\n",
              "    </tr>\n",
              "  </tbody>\n",
              "</table>\n",
              "</div>\n",
              "      <button class=\"colab-df-convert\" onclick=\"convertToInteractive('df-094a69d5-805c-415b-8089-94c2601a88cb')\"\n",
              "              title=\"Convert this dataframe to an interactive table.\"\n",
              "              style=\"display:none;\">\n",
              "        \n",
              "  <svg xmlns=\"http://www.w3.org/2000/svg\" height=\"24px\"viewBox=\"0 0 24 24\"\n",
              "       width=\"24px\">\n",
              "    <path d=\"M0 0h24v24H0V0z\" fill=\"none\"/>\n",
              "    <path d=\"M18.56 5.44l.94 2.06.94-2.06 2.06-.94-2.06-.94-.94-2.06-.94 2.06-2.06.94zm-11 1L8.5 8.5l.94-2.06 2.06-.94-2.06-.94L8.5 2.5l-.94 2.06-2.06.94zm10 10l.94 2.06.94-2.06 2.06-.94-2.06-.94-.94-2.06-.94 2.06-2.06.94z\"/><path d=\"M17.41 7.96l-1.37-1.37c-.4-.4-.92-.59-1.43-.59-.52 0-1.04.2-1.43.59L10.3 9.45l-7.72 7.72c-.78.78-.78 2.05 0 2.83L4 21.41c.39.39.9.59 1.41.59.51 0 1.02-.2 1.41-.59l7.78-7.78 2.81-2.81c.8-.78.8-2.07 0-2.86zM5.41 20L4 18.59l7.72-7.72 1.47 1.35L5.41 20z\"/>\n",
              "  </svg>\n",
              "      </button>\n",
              "      \n",
              "  <style>\n",
              "    .colab-df-container {\n",
              "      display:flex;\n",
              "      flex-wrap:wrap;\n",
              "      gap: 12px;\n",
              "    }\n",
              "\n",
              "    .colab-df-convert {\n",
              "      background-color: #E8F0FE;\n",
              "      border: none;\n",
              "      border-radius: 50%;\n",
              "      cursor: pointer;\n",
              "      display: none;\n",
              "      fill: #1967D2;\n",
              "      height: 32px;\n",
              "      padding: 0 0 0 0;\n",
              "      width: 32px;\n",
              "    }\n",
              "\n",
              "    .colab-df-convert:hover {\n",
              "      background-color: #E2EBFA;\n",
              "      box-shadow: 0px 1px 2px rgba(60, 64, 67, 0.3), 0px 1px 3px 1px rgba(60, 64, 67, 0.15);\n",
              "      fill: #174EA6;\n",
              "    }\n",
              "\n",
              "    [theme=dark] .colab-df-convert {\n",
              "      background-color: #3B4455;\n",
              "      fill: #D2E3FC;\n",
              "    }\n",
              "\n",
              "    [theme=dark] .colab-df-convert:hover {\n",
              "      background-color: #434B5C;\n",
              "      box-shadow: 0px 1px 3px 1px rgba(0, 0, 0, 0.15);\n",
              "      filter: drop-shadow(0px 1px 2px rgba(0, 0, 0, 0.3));\n",
              "      fill: #FFFFFF;\n",
              "    }\n",
              "  </style>\n",
              "\n",
              "      <script>\n",
              "        const buttonEl =\n",
              "          document.querySelector('#df-094a69d5-805c-415b-8089-94c2601a88cb button.colab-df-convert');\n",
              "        buttonEl.style.display =\n",
              "          google.colab.kernel.accessAllowed ? 'block' : 'none';\n",
              "\n",
              "        async function convertToInteractive(key) {\n",
              "          const element = document.querySelector('#df-094a69d5-805c-415b-8089-94c2601a88cb');\n",
              "          const dataTable =\n",
              "            await google.colab.kernel.invokeFunction('convertToInteractive',\n",
              "                                                     [key], {});\n",
              "          if (!dataTable) return;\n",
              "\n",
              "          const docLinkHtml = 'Like what you see? Visit the ' +\n",
              "            '<a target=\"_blank\" href=https://colab.research.google.com/notebooks/data_table.ipynb>data table notebook</a>'\n",
              "            + ' to learn more about interactive tables.';\n",
              "          element.innerHTML = '';\n",
              "          dataTable['output_type'] = 'display_data';\n",
              "          await google.colab.output.renderOutput(dataTable, element);\n",
              "          const docLink = document.createElement('div');\n",
              "          docLink.innerHTML = docLinkHtml;\n",
              "          element.appendChild(docLink);\n",
              "        }\n",
              "      </script>\n",
              "    </div>\n",
              "  </div>\n",
              "  "
            ]
          },
          "metadata": {},
          "execution_count": 5
        }
      ],
      "source": [
        "data = pd.read_csv('./ru_toxic_dataset.csv')\n",
        "data.head()"
      ]
    },
    {
      "cell_type": "code",
      "execution_count": 6,
      "metadata": {
        "execution": {
          "iopub.execute_input": "2023-06-26T22:22:14.915123Z",
          "iopub.status.busy": "2023-06-26T22:22:14.914732Z",
          "iopub.status.idle": "2023-06-26T22:22:18.046272Z",
          "shell.execute_reply": "2023-06-26T22:22:18.045262Z",
          "shell.execute_reply.started": "2023-06-26T22:22:14.915085Z"
        },
        "id": "EFa7LpEY1HuC"
      },
      "outputs": [],
      "source": [
        "data['toxic'] = data['toxic'].astype(int)\n",
        "data = data.replace('\\n',' ', regex=True)\n",
        "data = data.replace(r'http\\S+', '', regex=True).replace(r'www\\S+', '', regex=True)\n",
        "data['comment'] = data['comment'].str.lower()\n",
        "data = data.replace('[^а-яА-я]', ' ', regex=True)"
      ]
    },
    {
      "cell_type": "code",
      "execution_count": 7,
      "metadata": {
        "colab": {
          "base_uri": "https://localhost:8080/",
          "height": 206
        },
        "execution": {
          "iopub.execute_input": "2023-06-26T22:22:18.111359Z",
          "iopub.status.busy": "2023-06-26T22:22:18.110946Z",
          "iopub.status.idle": "2023-06-26T22:22:18.173875Z",
          "shell.execute_reply": "2023-06-26T22:22:18.172350Z",
          "shell.execute_reply.started": "2023-06-26T22:22:18.111325Z"
        },
        "id": "WoYVohbd1HuD",
        "outputId": "ce1e43bd-4d34-43f0-e575-d17f97f9028c"
      },
      "outputs": [
        {
          "output_type": "execute_result",
          "data": {
            "text/plain": [
              "                                             comment  toxic\n",
              "0                     дворника надо тоже уничтожить       1\n",
              "1  моя старшая неделю шипела  не принимала подкид...      0\n",
              "2                         полностью с вами согласна       0\n",
              "3               хоть ногу вверх  ничего не изменится      0\n",
              "4                     а что значит   левого ребенка       0"
            ],
            "text/html": [
              "\n",
              "  <div id=\"df-acee7138-e512-464c-a1aa-e4f3a3e22ea9\">\n",
              "    <div class=\"colab-df-container\">\n",
              "      <div>\n",
              "<style scoped>\n",
              "    .dataframe tbody tr th:only-of-type {\n",
              "        vertical-align: middle;\n",
              "    }\n",
              "\n",
              "    .dataframe tbody tr th {\n",
              "        vertical-align: top;\n",
              "    }\n",
              "\n",
              "    .dataframe thead th {\n",
              "        text-align: right;\n",
              "    }\n",
              "</style>\n",
              "<table border=\"1\" class=\"dataframe\">\n",
              "  <thead>\n",
              "    <tr style=\"text-align: right;\">\n",
              "      <th></th>\n",
              "      <th>comment</th>\n",
              "      <th>toxic</th>\n",
              "    </tr>\n",
              "  </thead>\n",
              "  <tbody>\n",
              "    <tr>\n",
              "      <th>0</th>\n",
              "      <td>дворника надо тоже уничтожить</td>\n",
              "      <td>1</td>\n",
              "    </tr>\n",
              "    <tr>\n",
              "      <th>1</th>\n",
              "      <td>моя старшая неделю шипела  не принимала подкид...</td>\n",
              "      <td>0</td>\n",
              "    </tr>\n",
              "    <tr>\n",
              "      <th>2</th>\n",
              "      <td>полностью с вами согласна</td>\n",
              "      <td>0</td>\n",
              "    </tr>\n",
              "    <tr>\n",
              "      <th>3</th>\n",
              "      <td>хоть ногу вверх  ничего не изменится</td>\n",
              "      <td>0</td>\n",
              "    </tr>\n",
              "    <tr>\n",
              "      <th>4</th>\n",
              "      <td>а что значит   левого ребенка</td>\n",
              "      <td>0</td>\n",
              "    </tr>\n",
              "  </tbody>\n",
              "</table>\n",
              "</div>\n",
              "      <button class=\"colab-df-convert\" onclick=\"convertToInteractive('df-acee7138-e512-464c-a1aa-e4f3a3e22ea9')\"\n",
              "              title=\"Convert this dataframe to an interactive table.\"\n",
              "              style=\"display:none;\">\n",
              "        \n",
              "  <svg xmlns=\"http://www.w3.org/2000/svg\" height=\"24px\"viewBox=\"0 0 24 24\"\n",
              "       width=\"24px\">\n",
              "    <path d=\"M0 0h24v24H0V0z\" fill=\"none\"/>\n",
              "    <path d=\"M18.56 5.44l.94 2.06.94-2.06 2.06-.94-2.06-.94-.94-2.06-.94 2.06-2.06.94zm-11 1L8.5 8.5l.94-2.06 2.06-.94-2.06-.94L8.5 2.5l-.94 2.06-2.06.94zm10 10l.94 2.06.94-2.06 2.06-.94-2.06-.94-.94-2.06-.94 2.06-2.06.94z\"/><path d=\"M17.41 7.96l-1.37-1.37c-.4-.4-.92-.59-1.43-.59-.52 0-1.04.2-1.43.59L10.3 9.45l-7.72 7.72c-.78.78-.78 2.05 0 2.83L4 21.41c.39.39.9.59 1.41.59.51 0 1.02-.2 1.41-.59l7.78-7.78 2.81-2.81c.8-.78.8-2.07 0-2.86zM5.41 20L4 18.59l7.72-7.72 1.47 1.35L5.41 20z\"/>\n",
              "  </svg>\n",
              "      </button>\n",
              "      \n",
              "  <style>\n",
              "    .colab-df-container {\n",
              "      display:flex;\n",
              "      flex-wrap:wrap;\n",
              "      gap: 12px;\n",
              "    }\n",
              "\n",
              "    .colab-df-convert {\n",
              "      background-color: #E8F0FE;\n",
              "      border: none;\n",
              "      border-radius: 50%;\n",
              "      cursor: pointer;\n",
              "      display: none;\n",
              "      fill: #1967D2;\n",
              "      height: 32px;\n",
              "      padding: 0 0 0 0;\n",
              "      width: 32px;\n",
              "    }\n",
              "\n",
              "    .colab-df-convert:hover {\n",
              "      background-color: #E2EBFA;\n",
              "      box-shadow: 0px 1px 2px rgba(60, 64, 67, 0.3), 0px 1px 3px 1px rgba(60, 64, 67, 0.15);\n",
              "      fill: #174EA6;\n",
              "    }\n",
              "\n",
              "    [theme=dark] .colab-df-convert {\n",
              "      background-color: #3B4455;\n",
              "      fill: #D2E3FC;\n",
              "    }\n",
              "\n",
              "    [theme=dark] .colab-df-convert:hover {\n",
              "      background-color: #434B5C;\n",
              "      box-shadow: 0px 1px 3px 1px rgba(0, 0, 0, 0.15);\n",
              "      filter: drop-shadow(0px 1px 2px rgba(0, 0, 0, 0.3));\n",
              "      fill: #FFFFFF;\n",
              "    }\n",
              "  </style>\n",
              "\n",
              "      <script>\n",
              "        const buttonEl =\n",
              "          document.querySelector('#df-acee7138-e512-464c-a1aa-e4f3a3e22ea9 button.colab-df-convert');\n",
              "        buttonEl.style.display =\n",
              "          google.colab.kernel.accessAllowed ? 'block' : 'none';\n",
              "\n",
              "        async function convertToInteractive(key) {\n",
              "          const element = document.querySelector('#df-acee7138-e512-464c-a1aa-e4f3a3e22ea9');\n",
              "          const dataTable =\n",
              "            await google.colab.kernel.invokeFunction('convertToInteractive',\n",
              "                                                     [key], {});\n",
              "          if (!dataTable) return;\n",
              "\n",
              "          const docLinkHtml = 'Like what you see? Visit the ' +\n",
              "            '<a target=\"_blank\" href=https://colab.research.google.com/notebooks/data_table.ipynb>data table notebook</a>'\n",
              "            + ' to learn more about interactive tables.';\n",
              "          element.innerHTML = '';\n",
              "          dataTable['output_type'] = 'display_data';\n",
              "          await google.colab.output.renderOutput(dataTable, element);\n",
              "          const docLink = document.createElement('div');\n",
              "          docLink.innerHTML = docLinkHtml;\n",
              "          element.appendChild(docLink);\n",
              "        }\n",
              "      </script>\n",
              "    </div>\n",
              "  </div>\n",
              "  "
            ]
          },
          "metadata": {},
          "execution_count": 7
        }
      ],
      "source": [
        "data.head()"
      ]
    },
    {
      "cell_type": "code",
      "execution_count": 8,
      "metadata": {
        "colab": {
          "base_uri": "https://localhost:8080/"
        },
        "execution": {
          "iopub.execute_input": "2023-06-26T22:22:18.177343Z",
          "iopub.status.busy": "2023-06-26T22:22:18.176673Z",
          "iopub.status.idle": "2023-06-26T22:22:18.439141Z",
          "shell.execute_reply": "2023-06-26T22:22:18.438053Z",
          "shell.execute_reply.started": "2023-06-26T22:22:18.177302Z"
        },
        "id": "peqG1s_L1HuD",
        "outputId": "f47b882e-836e-4c10-9ffa-01e833302f29"
      },
      "outputs": [
        {
          "output_type": "stream",
          "name": "stderr",
          "text": [
            "[nltk_data] Downloading package punkt to /root/nltk_data...\n",
            "[nltk_data]   Unzipping tokenizers/punkt.zip.\n"
          ]
        },
        {
          "output_type": "execute_result",
          "data": {
            "text/plain": [
              "True"
            ]
          },
          "metadata": {},
          "execution_count": 8
        }
      ],
      "source": [
        "import nltk\n",
        "nltk.download('punkt')\n"
      ]
    },
    {
      "cell_type": "code",
      "execution_count": 9,
      "metadata": {
        "colab": {
          "base_uri": "https://localhost:8080/",
          "height": 89
        },
        "execution": {
          "iopub.execute_input": "2023-06-26T22:22:37.995535Z",
          "iopub.status.busy": "2023-06-26T22:22:37.995149Z",
          "iopub.status.idle": "2023-06-26T22:22:44.541253Z",
          "shell.execute_reply": "2023-06-26T22:22:44.540142Z",
          "shell.execute_reply.started": "2023-06-26T22:22:37.995504Z"
        },
        "id": "46PxdC0I1HuE",
        "outputId": "05bf6975-2178-4723-9a65-13a7f0cdc6fb"
      },
      "outputs": [
        {
          "output_type": "stream",
          "name": "stderr",
          "text": [
            "[nltk_data] Downloading package stopwords to /root/nltk_data...\n",
            "[nltk_data]   Unzipping corpora/stopwords.zip.\n",
            "Installing mystem to /root/.local/bin/mystem from http://download.cdn.yandex.net/mystem/mystem-3.1-linux-64bit.tar.gz\n"
          ]
        },
        {
          "output_type": "execute_result",
          "data": {
            "text/plain": [
              "'асфальт мимо цемент избегать зевака аплодисменты обитатель спальный аррондисман'"
            ],
            "application/vnd.google.colaboratory.intrinsic+json": {
              "type": "string"
            }
          },
          "metadata": {},
          "execution_count": 9
        }
      ],
      "source": [
        "# In this kernel I'll show you how easy it is to preprocess the text in Russian.\n",
        "\n",
        "# You need to install two libraries:\n",
        "# * nltk - to get russian stopwords\n",
        "# * pymystem3 - for lemmatization\n",
        "\n",
        "# download stopwords corpus, you need to run it once\n",
        "import nltk\n",
        "nltk.download(\"stopwords\")\n",
        "#--------#\n",
        "\n",
        "from nltk.corpus import stopwords\n",
        "from pymystem3 import Mystem\n",
        "from string import punctuation\n",
        "\n",
        "#Create lemmatizer and stopwords list\n",
        "mystem = Mystem()\n",
        "russian_stopwords = stopwords.words(\"russian\")\n",
        "\n",
        "#Preprocess function\n",
        "def preprocess_text(text):\n",
        "    tokens = mystem.lemmatize(text.lower())\n",
        "    tokens = [token for token in tokens if token not in russian_stopwords\\\n",
        "              and token != \" \" \\\n",
        "              and token.strip() not in punctuation]\n",
        "\n",
        "    text = \" \".join(tokens)\n",
        "\n",
        "    return text\n",
        "\n",
        "#Examples\n",
        "preprocess_text(\"Ну что сказать, я вижу кто-то наступил на грабли, Ты разочаровал меня, ты был натравлен.\")\n",
        "#> 'сказать видеть кто-то наступать грабли разочаровывать натравлять'\n",
        "\n",
        "preprocess_text(\"По асфальту мимо цемента, Избегая зевак под аплодисменты. Обитатели спальных аррондисманов\")\n",
        "#> 'асфальт мимо цемент избегать зевака аплодисменты обитатель спальный аррондисман'\n",
        "\n",
        "#Thats all :)"
      ]
    },
    {
      "cell_type": "code",
      "execution_count": 10,
      "metadata": {
        "colab": {
          "base_uri": "https://localhost:8080/"
        },
        "execution": {
          "iopub.execute_input": "2023-06-26T22:22:47.987289Z",
          "iopub.status.busy": "2023-06-26T22:22:47.986403Z",
          "iopub.status.idle": "2023-06-26T22:25:40.153847Z",
          "shell.execute_reply": "2023-06-26T22:25:40.152737Z",
          "shell.execute_reply.started": "2023-06-26T22:22:47.987148Z"
        },
        "id": "ya8WV4wK1HuE",
        "outputId": "a3e6fcba-a8aa-44bb-faa0-688c584927a1"
      },
      "outputs": [
        {
          "output_type": "stream",
          "name": "stderr",
          "text": [
            "100%|██████████| 163187/163187 [02:22<00:00, 1144.88it/s]\n"
          ]
        }
      ],
      "source": [
        "mystem = Mystem()\n",
        "\n",
        "\n",
        "cleaned_text = []\n",
        "for i in tqdm(range(len(data))):\n",
        "    cleaned_text.append(preprocess_text(data[\"comment\"][i]))\n"
      ]
    },
    {
      "cell_type": "code",
      "execution_count": 11,
      "metadata": {
        "execution": {
          "iopub.execute_input": "2023-06-26T22:25:40.156837Z",
          "iopub.status.busy": "2023-06-26T22:25:40.156151Z",
          "iopub.status.idle": "2023-06-26T22:25:40.211903Z",
          "shell.execute_reply": "2023-06-26T22:25:40.210564Z",
          "shell.execute_reply.started": "2023-06-26T22:25:40.156797Z"
        },
        "id": "QFcsy_Jo1HuF",
        "colab": {
          "base_uri": "https://localhost:8080/",
          "height": 35
        },
        "outputId": "6fcab432-86bb-4479-9f7d-83e402eca416"
      },
      "outputs": [
        {
          "output_type": "execute_result",
          "data": {
            "text/plain": [
              "'дворник уничтожать'"
            ],
            "application/vnd.google.colaboratory.intrinsic+json": {
              "type": "string"
            }
          },
          "metadata": {},
          "execution_count": 11
        }
      ],
      "source": [
        "cleaned_text[0]"
      ]
    },
    {
      "cell_type": "code",
      "execution_count": 12,
      "metadata": {
        "execution": {
          "iopub.execute_input": "2023-06-26T22:25:40.214495Z",
          "iopub.status.busy": "2023-06-26T22:25:40.213764Z",
          "iopub.status.idle": "2023-06-26T22:25:40.290373Z",
          "shell.execute_reply": "2023-06-26T22:25:40.289137Z",
          "shell.execute_reply.started": "2023-06-26T22:25:40.214454Z"
        },
        "id": "eUBL9KPY1HuF"
      },
      "outputs": [],
      "source": [
        "data['comment'] = cleaned_text"
      ]
    },
    {
      "cell_type": "code",
      "execution_count": 13,
      "metadata": {
        "execution": {
          "iopub.execute_input": "2023-06-26T22:25:40.294118Z",
          "iopub.status.busy": "2023-06-26T22:25:40.293555Z",
          "iopub.status.idle": "2023-06-26T22:25:40.355315Z",
          "shell.execute_reply": "2023-06-26T22:25:40.353713Z",
          "shell.execute_reply.started": "2023-06-26T22:25:40.293996Z"
        },
        "id": "T7rMN97m1HuF",
        "colab": {
          "base_uri": "https://localhost:8080/",
          "height": 206
        },
        "outputId": "d65b2ef8-b478-4d97-af83-fe4c25772e5c"
      },
      "outputs": [
        {
          "output_type": "execute_result",
          "data": {
            "text/plain": [
              "                                             comment  toxic\n",
              "0                                 дворник уничтожать      1\n",
              "1  старший неделя шипеть принимать подкидыш котор...      0\n",
              "2                                полностью согласный      0\n",
              "3                        нога вверх ничто изменяться      0\n",
              "4                              значить левый ребенок      0"
            ],
            "text/html": [
              "\n",
              "  <div id=\"df-0ac4c7c5-f370-469c-9360-1e52b8572d47\">\n",
              "    <div class=\"colab-df-container\">\n",
              "      <div>\n",
              "<style scoped>\n",
              "    .dataframe tbody tr th:only-of-type {\n",
              "        vertical-align: middle;\n",
              "    }\n",
              "\n",
              "    .dataframe tbody tr th {\n",
              "        vertical-align: top;\n",
              "    }\n",
              "\n",
              "    .dataframe thead th {\n",
              "        text-align: right;\n",
              "    }\n",
              "</style>\n",
              "<table border=\"1\" class=\"dataframe\">\n",
              "  <thead>\n",
              "    <tr style=\"text-align: right;\">\n",
              "      <th></th>\n",
              "      <th>comment</th>\n",
              "      <th>toxic</th>\n",
              "    </tr>\n",
              "  </thead>\n",
              "  <tbody>\n",
              "    <tr>\n",
              "      <th>0</th>\n",
              "      <td>дворник уничтожать</td>\n",
              "      <td>1</td>\n",
              "    </tr>\n",
              "    <tr>\n",
              "      <th>1</th>\n",
              "      <td>старший неделя шипеть принимать подкидыш котор...</td>\n",
              "      <td>0</td>\n",
              "    </tr>\n",
              "    <tr>\n",
              "      <th>2</th>\n",
              "      <td>полностью согласный</td>\n",
              "      <td>0</td>\n",
              "    </tr>\n",
              "    <tr>\n",
              "      <th>3</th>\n",
              "      <td>нога вверх ничто изменяться</td>\n",
              "      <td>0</td>\n",
              "    </tr>\n",
              "    <tr>\n",
              "      <th>4</th>\n",
              "      <td>значить левый ребенок</td>\n",
              "      <td>0</td>\n",
              "    </tr>\n",
              "  </tbody>\n",
              "</table>\n",
              "</div>\n",
              "      <button class=\"colab-df-convert\" onclick=\"convertToInteractive('df-0ac4c7c5-f370-469c-9360-1e52b8572d47')\"\n",
              "              title=\"Convert this dataframe to an interactive table.\"\n",
              "              style=\"display:none;\">\n",
              "        \n",
              "  <svg xmlns=\"http://www.w3.org/2000/svg\" height=\"24px\"viewBox=\"0 0 24 24\"\n",
              "       width=\"24px\">\n",
              "    <path d=\"M0 0h24v24H0V0z\" fill=\"none\"/>\n",
              "    <path d=\"M18.56 5.44l.94 2.06.94-2.06 2.06-.94-2.06-.94-.94-2.06-.94 2.06-2.06.94zm-11 1L8.5 8.5l.94-2.06 2.06-.94-2.06-.94L8.5 2.5l-.94 2.06-2.06.94zm10 10l.94 2.06.94-2.06 2.06-.94-2.06-.94-.94-2.06-.94 2.06-2.06.94z\"/><path d=\"M17.41 7.96l-1.37-1.37c-.4-.4-.92-.59-1.43-.59-.52 0-1.04.2-1.43.59L10.3 9.45l-7.72 7.72c-.78.78-.78 2.05 0 2.83L4 21.41c.39.39.9.59 1.41.59.51 0 1.02-.2 1.41-.59l7.78-7.78 2.81-2.81c.8-.78.8-2.07 0-2.86zM5.41 20L4 18.59l7.72-7.72 1.47 1.35L5.41 20z\"/>\n",
              "  </svg>\n",
              "      </button>\n",
              "      \n",
              "  <style>\n",
              "    .colab-df-container {\n",
              "      display:flex;\n",
              "      flex-wrap:wrap;\n",
              "      gap: 12px;\n",
              "    }\n",
              "\n",
              "    .colab-df-convert {\n",
              "      background-color: #E8F0FE;\n",
              "      border: none;\n",
              "      border-radius: 50%;\n",
              "      cursor: pointer;\n",
              "      display: none;\n",
              "      fill: #1967D2;\n",
              "      height: 32px;\n",
              "      padding: 0 0 0 0;\n",
              "      width: 32px;\n",
              "    }\n",
              "\n",
              "    .colab-df-convert:hover {\n",
              "      background-color: #E2EBFA;\n",
              "      box-shadow: 0px 1px 2px rgba(60, 64, 67, 0.3), 0px 1px 3px 1px rgba(60, 64, 67, 0.15);\n",
              "      fill: #174EA6;\n",
              "    }\n",
              "\n",
              "    [theme=dark] .colab-df-convert {\n",
              "      background-color: #3B4455;\n",
              "      fill: #D2E3FC;\n",
              "    }\n",
              "\n",
              "    [theme=dark] .colab-df-convert:hover {\n",
              "      background-color: #434B5C;\n",
              "      box-shadow: 0px 1px 3px 1px rgba(0, 0, 0, 0.15);\n",
              "      filter: drop-shadow(0px 1px 2px rgba(0, 0, 0, 0.3));\n",
              "      fill: #FFFFFF;\n",
              "    }\n",
              "  </style>\n",
              "\n",
              "      <script>\n",
              "        const buttonEl =\n",
              "          document.querySelector('#df-0ac4c7c5-f370-469c-9360-1e52b8572d47 button.colab-df-convert');\n",
              "        buttonEl.style.display =\n",
              "          google.colab.kernel.accessAllowed ? 'block' : 'none';\n",
              "\n",
              "        async function convertToInteractive(key) {\n",
              "          const element = document.querySelector('#df-0ac4c7c5-f370-469c-9360-1e52b8572d47');\n",
              "          const dataTable =\n",
              "            await google.colab.kernel.invokeFunction('convertToInteractive',\n",
              "                                                     [key], {});\n",
              "          if (!dataTable) return;\n",
              "\n",
              "          const docLinkHtml = 'Like what you see? Visit the ' +\n",
              "            '<a target=\"_blank\" href=https://colab.research.google.com/notebooks/data_table.ipynb>data table notebook</a>'\n",
              "            + ' to learn more about interactive tables.';\n",
              "          element.innerHTML = '';\n",
              "          dataTable['output_type'] = 'display_data';\n",
              "          await google.colab.output.renderOutput(dataTable, element);\n",
              "          const docLink = document.createElement('div');\n",
              "          docLink.innerHTML = docLinkHtml;\n",
              "          element.appendChild(docLink);\n",
              "        }\n",
              "      </script>\n",
              "    </div>\n",
              "  </div>\n",
              "  "
            ]
          },
          "metadata": {},
          "execution_count": 13
        }
      ],
      "source": [
        "data.head()"
      ]
    },
    {
      "cell_type": "code",
      "execution_count": 14,
      "metadata": {
        "execution": {
          "iopub.execute_input": "2023-06-26T22:25:40.358057Z",
          "iopub.status.busy": "2023-06-26T22:25:40.357273Z",
          "iopub.status.idle": "2023-06-26T22:26:10.762696Z",
          "shell.execute_reply": "2023-06-26T22:26:10.761355Z",
          "shell.execute_reply.started": "2023-06-26T22:25:40.358013Z"
        },
        "id": "-zpiTr-x1HuF",
        "colab": {
          "base_uri": "https://localhost:8080/",
          "height": 242
        },
        "outputId": "691d5c50-3b46-493f-c0de-7cb1b5a3fff9"
      },
      "outputs": [
        {
          "output_type": "stream",
          "name": "stderr",
          "text": [
            "[nltk_data] Downloading package punkt to /root/nltk_data...\n",
            "[nltk_data]   Package punkt is already up-to-date!\n"
          ]
        },
        {
          "output_type": "execute_result",
          "data": {
            "text/plain": [
              "                                             comment  toxic  \\\n",
              "0                                 дворник уничтожать      1   \n",
              "1  старший неделя шипеть принимать подкидыш котор...      0   \n",
              "2                                полностью согласный      0   \n",
              "3                        нога вверх ничто изменяться      0   \n",
              "4                              значить левый ребенок      0   \n",
              "\n",
              "                                   tokenized_comment  \n",
              "0                              [дворник, уничтожать]  \n",
              "1  [старший, неделя, шипеть, принимать, подкидыш,...  \n",
              "2                             [полностью, согласный]  \n",
              "3                   [нога, вверх, ничто, изменяться]  \n",
              "4                          [значить, левый, ребенок]  "
            ],
            "text/html": [
              "\n",
              "  <div id=\"df-78d813b0-b8ca-42f2-b9cf-e80cf662d7fd\">\n",
              "    <div class=\"colab-df-container\">\n",
              "      <div>\n",
              "<style scoped>\n",
              "    .dataframe tbody tr th:only-of-type {\n",
              "        vertical-align: middle;\n",
              "    }\n",
              "\n",
              "    .dataframe tbody tr th {\n",
              "        vertical-align: top;\n",
              "    }\n",
              "\n",
              "    .dataframe thead th {\n",
              "        text-align: right;\n",
              "    }\n",
              "</style>\n",
              "<table border=\"1\" class=\"dataframe\">\n",
              "  <thead>\n",
              "    <tr style=\"text-align: right;\">\n",
              "      <th></th>\n",
              "      <th>comment</th>\n",
              "      <th>toxic</th>\n",
              "      <th>tokenized_comment</th>\n",
              "    </tr>\n",
              "  </thead>\n",
              "  <tbody>\n",
              "    <tr>\n",
              "      <th>0</th>\n",
              "      <td>дворник уничтожать</td>\n",
              "      <td>1</td>\n",
              "      <td>[дворник, уничтожать]</td>\n",
              "    </tr>\n",
              "    <tr>\n",
              "      <th>1</th>\n",
              "      <td>старший неделя шипеть принимать подкидыш котор...</td>\n",
              "      <td>0</td>\n",
              "      <td>[старший, неделя, шипеть, принимать, подкидыш,...</td>\n",
              "    </tr>\n",
              "    <tr>\n",
              "      <th>2</th>\n",
              "      <td>полностью согласный</td>\n",
              "      <td>0</td>\n",
              "      <td>[полностью, согласный]</td>\n",
              "    </tr>\n",
              "    <tr>\n",
              "      <th>3</th>\n",
              "      <td>нога вверх ничто изменяться</td>\n",
              "      <td>0</td>\n",
              "      <td>[нога, вверх, ничто, изменяться]</td>\n",
              "    </tr>\n",
              "    <tr>\n",
              "      <th>4</th>\n",
              "      <td>значить левый ребенок</td>\n",
              "      <td>0</td>\n",
              "      <td>[значить, левый, ребенок]</td>\n",
              "    </tr>\n",
              "  </tbody>\n",
              "</table>\n",
              "</div>\n",
              "      <button class=\"colab-df-convert\" onclick=\"convertToInteractive('df-78d813b0-b8ca-42f2-b9cf-e80cf662d7fd')\"\n",
              "              title=\"Convert this dataframe to an interactive table.\"\n",
              "              style=\"display:none;\">\n",
              "        \n",
              "  <svg xmlns=\"http://www.w3.org/2000/svg\" height=\"24px\"viewBox=\"0 0 24 24\"\n",
              "       width=\"24px\">\n",
              "    <path d=\"M0 0h24v24H0V0z\" fill=\"none\"/>\n",
              "    <path d=\"M18.56 5.44l.94 2.06.94-2.06 2.06-.94-2.06-.94-.94-2.06-.94 2.06-2.06.94zm-11 1L8.5 8.5l.94-2.06 2.06-.94-2.06-.94L8.5 2.5l-.94 2.06-2.06.94zm10 10l.94 2.06.94-2.06 2.06-.94-2.06-.94-.94-2.06-.94 2.06-2.06.94z\"/><path d=\"M17.41 7.96l-1.37-1.37c-.4-.4-.92-.59-1.43-.59-.52 0-1.04.2-1.43.59L10.3 9.45l-7.72 7.72c-.78.78-.78 2.05 0 2.83L4 21.41c.39.39.9.59 1.41.59.51 0 1.02-.2 1.41-.59l7.78-7.78 2.81-2.81c.8-.78.8-2.07 0-2.86zM5.41 20L4 18.59l7.72-7.72 1.47 1.35L5.41 20z\"/>\n",
              "  </svg>\n",
              "      </button>\n",
              "      \n",
              "  <style>\n",
              "    .colab-df-container {\n",
              "      display:flex;\n",
              "      flex-wrap:wrap;\n",
              "      gap: 12px;\n",
              "    }\n",
              "\n",
              "    .colab-df-convert {\n",
              "      background-color: #E8F0FE;\n",
              "      border: none;\n",
              "      border-radius: 50%;\n",
              "      cursor: pointer;\n",
              "      display: none;\n",
              "      fill: #1967D2;\n",
              "      height: 32px;\n",
              "      padding: 0 0 0 0;\n",
              "      width: 32px;\n",
              "    }\n",
              "\n",
              "    .colab-df-convert:hover {\n",
              "      background-color: #E2EBFA;\n",
              "      box-shadow: 0px 1px 2px rgba(60, 64, 67, 0.3), 0px 1px 3px 1px rgba(60, 64, 67, 0.15);\n",
              "      fill: #174EA6;\n",
              "    }\n",
              "\n",
              "    [theme=dark] .colab-df-convert {\n",
              "      background-color: #3B4455;\n",
              "      fill: #D2E3FC;\n",
              "    }\n",
              "\n",
              "    [theme=dark] .colab-df-convert:hover {\n",
              "      background-color: #434B5C;\n",
              "      box-shadow: 0px 1px 3px 1px rgba(0, 0, 0, 0.15);\n",
              "      filter: drop-shadow(0px 1px 2px rgba(0, 0, 0, 0.3));\n",
              "      fill: #FFFFFF;\n",
              "    }\n",
              "  </style>\n",
              "\n",
              "      <script>\n",
              "        const buttonEl =\n",
              "          document.querySelector('#df-78d813b0-b8ca-42f2-b9cf-e80cf662d7fd button.colab-df-convert');\n",
              "        buttonEl.style.display =\n",
              "          google.colab.kernel.accessAllowed ? 'block' : 'none';\n",
              "\n",
              "        async function convertToInteractive(key) {\n",
              "          const element = document.querySelector('#df-78d813b0-b8ca-42f2-b9cf-e80cf662d7fd');\n",
              "          const dataTable =\n",
              "            await google.colab.kernel.invokeFunction('convertToInteractive',\n",
              "                                                     [key], {});\n",
              "          if (!dataTable) return;\n",
              "\n",
              "          const docLinkHtml = 'Like what you see? Visit the ' +\n",
              "            '<a target=\"_blank\" href=https://colab.research.google.com/notebooks/data_table.ipynb>data table notebook</a>'\n",
              "            + ' to learn more about interactive tables.';\n",
              "          element.innerHTML = '';\n",
              "          dataTable['output_type'] = 'display_data';\n",
              "          await google.colab.output.renderOutput(dataTable, element);\n",
              "          const docLink = document.createElement('div');\n",
              "          docLink.innerHTML = docLinkHtml;\n",
              "          element.appendChild(docLink);\n",
              "        }\n",
              "      </script>\n",
              "    </div>\n",
              "  </div>\n",
              "  "
            ]
          },
          "metadata": {},
          "execution_count": 14
        }
      ],
      "source": [
        "nltk.download('punkt')\n",
        "data['tokenized_comment'] = data['comment'].apply(nltk.word_tokenize)\n",
        "data.head()"
      ]
    },
    {
      "cell_type": "code",
      "execution_count": 15,
      "metadata": {
        "execution": {
          "iopub.execute_input": "2023-06-26T22:26:10.765286Z",
          "iopub.status.busy": "2023-06-26T22:26:10.764592Z",
          "iopub.status.idle": "2023-06-26T22:26:12.994471Z",
          "shell.execute_reply": "2023-06-26T22:26:12.992685Z",
          "shell.execute_reply.started": "2023-06-26T22:26:10.765247Z"
        },
        "id": "peZjQCp61HuF"
      },
      "outputs": [],
      "source": [
        "data.to_csv(\"lemmatized.csv\")"
      ]
    },
    {
      "cell_type": "code",
      "execution_count": 16,
      "metadata": {
        "execution": {
          "iopub.execute_input": "2023-06-26T22:26:12.997279Z",
          "iopub.status.busy": "2023-06-26T22:26:12.996604Z",
          "iopub.status.idle": "2023-06-26T22:26:13.056198Z",
          "shell.execute_reply": "2023-06-26T22:26:13.054933Z",
          "shell.execute_reply.started": "2023-06-26T22:26:12.997240Z"
        },
        "id": "gxjqzByS1HuF",
        "colab": {
          "base_uri": "https://localhost:8080/"
        },
        "outputId": "bf667a86-eac4-4343-b506-4b98d6c1d6d7"
      },
      "outputs": [
        {
          "output_type": "execute_result",
          "data": {
            "text/plain": [
              "['дворник', 'уничтожать']"
            ]
          },
          "metadata": {},
          "execution_count": 16
        }
      ],
      "source": [
        "data['tokenized_comment'][0]"
      ]
    },
    {
      "cell_type": "code",
      "execution_count": 17,
      "metadata": {
        "execution": {
          "iopub.execute_input": "2023-06-26T22:26:13.058553Z",
          "iopub.status.busy": "2023-06-26T22:26:13.058085Z",
          "iopub.status.idle": "2023-06-26T22:26:16.515419Z",
          "shell.execute_reply": "2023-06-26T22:26:16.512417Z",
          "shell.execute_reply.started": "2023-06-26T22:26:13.058515Z"
        },
        "id": "IRTcp4Hw1HuF"
      },
      "outputs": [],
      "source": [
        "from sklearn.feature_extraction.text import TfidfVectorizer\n",
        "\n",
        "# Instantiate the TfidfVectorizer object\n",
        "vectorizer = TfidfVectorizer()\n",
        "\n",
        "tokenized_comments = data['tokenized_comment'].apply(lambda x: ' '.join(x))\n",
        "tfidf_vectors = vectorizer.fit_transform(tokenized_comments)"
      ]
    },
    {
      "cell_type": "code",
      "execution_count": 18,
      "metadata": {
        "execution": {
          "iopub.execute_input": "2023-06-26T22:26:16.517378Z",
          "iopub.status.busy": "2023-06-26T22:26:16.517002Z",
          "iopub.status.idle": "2023-06-26T22:26:16.627037Z",
          "shell.execute_reply": "2023-06-26T22:26:16.626112Z",
          "shell.execute_reply.started": "2023-06-26T22:26:16.517344Z"
        },
        "id": "FRH53Zmq1HuF",
        "colab": {
          "base_uri": "https://localhost:8080/"
        },
        "outputId": "b1554b71-bc16-4812-a22d-6ad5b32cbbf7"
      },
      "outputs": [
        {
          "output_type": "execute_result",
          "data": {
            "text/plain": [
              "100792"
            ]
          },
          "metadata": {},
          "execution_count": 18
        }
      ],
      "source": [
        "with open(\"vocab.txt\") as f:\n",
        "    vocab_bert = [r.rstrip() for r in f.readlines()]\n",
        "len(vocab_bert)"
      ]
    },
    {
      "cell_type": "code",
      "execution_count": 19,
      "metadata": {
        "execution": {
          "iopub.execute_input": "2023-06-26T22:26:16.632525Z",
          "iopub.status.busy": "2023-06-26T22:26:16.632185Z",
          "iopub.status.idle": "2023-06-26T22:26:16.731317Z",
          "shell.execute_reply": "2023-06-26T22:26:16.730277Z",
          "shell.execute_reply.started": "2023-06-26T22:26:16.632499Z"
        },
        "id": "vPMjuxFm1HuG"
      },
      "outputs": [],
      "source": [
        "X = tfidf_vectors\n",
        "y = data['toxic']\n",
        "\n",
        "X_train, X_test, y_train, y_test = train_test_split(X, y, test_size=0.2, random_state=42)\n",
        "X_train, X_val, y_train, y_val = train_test_split(X_train, y_train, test_size=0.2, random_state=42)"
      ]
    },
    {
      "cell_type": "markdown",
      "metadata": {
        "id": "84hdk6b0XLi4"
      },
      "source": [
        "***Get weiths of toxicity***"
      ]
    },
    {
      "cell_type": "code",
      "execution_count": 20,
      "metadata": {
        "execution": {
          "iopub.execute_input": "2023-06-26T22:26:16.733553Z",
          "iopub.status.busy": "2023-06-26T22:26:16.732920Z",
          "iopub.status.idle": "2023-06-26T22:26:17.552634Z",
          "shell.execute_reply": "2023-06-26T22:26:17.551432Z",
          "shell.execute_reply.started": "2023-06-26T22:26:16.733517Z"
        },
        "id": "ISjIhw6b1HuG",
        "colab": {
          "base_uri": "https://localhost:8080/"
        },
        "outputId": "d2faa59d-7bf0-4e00-f3bf-1793e0fec3c4"
      },
      "outputs": [
        {
          "output_type": "stream",
          "name": "stdout",
          "text": [
            "val acc: 0.843433479999758\n",
            "test acc: 0.839596660110323\n"
          ]
        }
      ],
      "source": [
        "l2_coef = 0.5\n",
        "alpha = 2\n",
        "beta = 2\n",
        "\n",
        "clf = LogisticRegression(C=1/(2*l2_coef), solver='sag')\n",
        "clf.fit(X_train, y_train)\n",
        "\n",
        "y_pred_val = clf.predict(X_val)\n",
        "y_pred_test = clf.predict(X_test)\n",
        "\n",
        "threshold = 0.5\n",
        "\n",
        "print(\"val acc:\", balanced_accuracy_score(y_val, y_pred_val))\n",
        "print(\"test acc:\", balanced_accuracy_score(y_test, y_pred_test))"
      ]
    },
    {
      "cell_type": "markdown",
      "metadata": {
        "id": "1DGmjj9A1HuG"
      },
      "source": [
        "Все слова с весами:"
      ]
    },
    {
      "cell_type": "code",
      "execution_count": 21,
      "metadata": {
        "execution": {
          "iopub.execute_input": "2023-06-26T22:26:17.555273Z",
          "iopub.status.busy": "2023-06-26T22:26:17.554215Z",
          "iopub.status.idle": "2023-06-26T22:26:17.726102Z",
          "shell.execute_reply": "2023-06-26T22:26:17.724809Z",
          "shell.execute_reply.started": "2023-06-26T22:26:17.555235Z"
        },
        "id": "udp8ZM321HuH",
        "colab": {
          "base_uri": "https://localhost:8080/"
        },
        "outputId": "2c27d96a-8d4d-42e4-85b5-6befe8127210"
      },
      "outputs": [
        {
          "output_type": "stream",
          "name": "stdout",
          "text": [
            "         word    weight\n",
            "0     дворник  0.071199\n",
            "1  уничтожать  3.701082\n",
            "2     старший -0.701989\n",
            "3      неделя -0.717012\n",
            "4      шипеть -0.195532\n",
            "5   принимать -1.514929\n",
            "6    подкидыш -0.145817\n",
            "7     который  1.408997\n",
            "8   приносить -0.393550\n",
            "9        китя  0.000000\n"
          ]
        }
      ],
      "source": [
        "weights = clf.coef_[0]\n",
        "word_weights = {word: weights[i] for word, i in vectorizer.vocabulary_.items()}\n",
        "word_weight_pairs = [(word, weight) for word, weight in word_weights.items()]\n",
        "df = pd.DataFrame(word_weight_pairs, columns=['word', 'weight'])\n",
        "print(df.head(10))"
      ]
    },
    {
      "cell_type": "code",
      "execution_count": 22,
      "metadata": {
        "execution": {
          "iopub.execute_input": "2023-06-26T22:26:17.728278Z",
          "iopub.status.busy": "2023-06-26T22:26:17.727864Z",
          "iopub.status.idle": "2023-06-26T22:26:18.277009Z",
          "shell.execute_reply": "2023-06-26T22:26:18.275612Z",
          "shell.execute_reply.started": "2023-06-26T22:26:17.728243Z"
        },
        "id": "zM7oSGYH1HuH"
      },
      "outputs": [],
      "source": [
        "df.to_csv(\"weights.csv\")"
      ]
    },
    {
      "cell_type": "code",
      "execution_count": 23,
      "metadata": {
        "execution": {
          "iopub.execute_input": "2023-06-26T22:26:18.279407Z",
          "iopub.status.busy": "2023-06-26T22:26:18.278966Z",
          "iopub.status.idle": "2023-06-26T22:26:18.453323Z",
          "shell.execute_reply": "2023-06-26T22:26:18.452301Z",
          "shell.execute_reply.started": "2023-06-26T22:26:18.279368Z"
        },
        "id": "e4XN0o9U1HuH"
      },
      "outputs": [],
      "source": [
        "df = pd.read_csv(\"weights.csv\")"
      ]
    },
    {
      "cell_type": "code",
      "execution_count": 24,
      "metadata": {
        "execution": {
          "iopub.execute_input": "2023-06-26T22:26:18.455294Z",
          "iopub.status.busy": "2023-06-26T22:26:18.454881Z",
          "iopub.status.idle": "2023-06-26T22:26:18.508559Z",
          "shell.execute_reply": "2023-06-26T22:26:18.507299Z",
          "shell.execute_reply.started": "2023-06-26T22:26:18.455259Z"
        },
        "id": "SxqNdLgJ1HuH",
        "colab": {
          "base_uri": "https://localhost:8080/"
        },
        "outputId": "a9842033-7ae3-4f9a-ab07-04e4f284bba4"
      },
      "outputs": [
        {
          "output_type": "execute_result",
          "data": {
            "text/plain": [
              "(97876, 3)"
            ]
          },
          "metadata": {},
          "execution_count": 24
        }
      ],
      "source": [
        "df.shape"
      ]
    },
    {
      "cell_type": "markdown",
      "metadata": {
        "id": "buxnNrOn1HuI"
      },
      "source": [
        "Только плохие:"
      ]
    },
    {
      "cell_type": "code",
      "execution_count": 25,
      "metadata": {
        "execution": {
          "iopub.execute_input": "2023-06-26T22:26:18.510758Z",
          "iopub.status.busy": "2023-06-26T22:26:18.510375Z",
          "iopub.status.idle": "2023-06-26T22:26:18.568469Z",
          "shell.execute_reply": "2023-06-26T22:26:18.567032Z",
          "shell.execute_reply.started": "2023-06-26T22:26:18.510720Z"
        },
        "id": "KMK78x-71HuI",
        "colab": {
          "base_uri": "https://localhost:8080/"
        },
        "outputId": "f6f8a80a-8ea2-47c5-8941-13d653b428dc"
      },
      "outputs": [
        {
          "output_type": "stream",
          "name": "stdout",
          "text": [
            "     Unnamed: 0        word    weight\n",
            "1             1  уничтожать  3.701082\n",
            "7             7     который  1.408997\n",
            "22           22        нога  1.335269\n",
            "35           35       петух  3.182605\n",
            "39           39       пацан  1.117959\n",
            "80           80     сдыхать  5.047806\n",
            "81           81       мразь  9.975001\n",
            "122         122   модератор  1.306574\n",
            "123         123   заебывать  5.784323\n",
            "129         129      всякий  1.267273\n"
          ]
        }
      ],
      "source": [
        "filtered_df = df[df['weight'] > 1]\n",
        "print(filtered_df.head(10))"
      ]
    },
    {
      "cell_type": "code",
      "execution_count": 26,
      "metadata": {
        "execution": {
          "iopub.execute_input": "2023-06-26T22:26:18.572095Z",
          "iopub.status.busy": "2023-06-26T22:26:18.571150Z",
          "iopub.status.idle": "2023-06-26T22:26:18.628492Z",
          "shell.execute_reply": "2023-06-26T22:26:18.627245Z",
          "shell.execute_reply.started": "2023-06-26T22:26:18.572029Z"
        },
        "id": "101WmRcR1HuI",
        "colab": {
          "base_uri": "https://localhost:8080/"
        },
        "outputId": "86ab4280-2439-4422-981d-d278d24c3764"
      },
      "outputs": [
        {
          "output_type": "execute_result",
          "data": {
            "text/plain": [
              "(935, 3)"
            ]
          },
          "metadata": {},
          "execution_count": 26
        }
      ],
      "source": [
        "filtered_df.shape"
      ]
    },
    {
      "cell_type": "code",
      "execution_count": 27,
      "metadata": {
        "execution": {
          "iopub.execute_input": "2023-06-26T22:26:18.631856Z",
          "iopub.status.busy": "2023-06-26T22:26:18.630784Z",
          "iopub.status.idle": "2023-06-26T22:26:18.693744Z",
          "shell.execute_reply": "2023-06-26T22:26:18.692380Z",
          "shell.execute_reply.started": "2023-06-26T22:26:18.631814Z"
        },
        "id": "IgxyKfRY1HuI"
      },
      "outputs": [],
      "source": [
        "filtered_df.to_csv(\"filtered_df.csv\")"
      ]
    },
    {
      "cell_type": "code",
      "execution_count": 28,
      "metadata": {
        "execution": {
          "iopub.execute_input": "2023-06-26T22:26:18.696311Z",
          "iopub.status.busy": "2023-06-26T22:26:18.695435Z",
          "iopub.status.idle": "2023-06-26T22:26:18.754078Z",
          "shell.execute_reply": "2023-06-26T22:26:18.752873Z",
          "shell.execute_reply.started": "2023-06-26T22:26:18.696279Z"
        },
        "id": "FWNctHkh1HuI"
      },
      "outputs": [],
      "source": [
        "df_dict = {\"word\": vocab_bert, \"weight\": np.zeros(len(vocab_bert))}"
      ]
    },
    {
      "cell_type": "code",
      "execution_count": 29,
      "metadata": {
        "execution": {
          "iopub.execute_input": "2023-06-26T22:26:18.756640Z",
          "iopub.status.busy": "2023-06-26T22:26:18.756176Z",
          "iopub.status.idle": "2023-06-26T22:26:18.823920Z",
          "shell.execute_reply": "2023-06-26T22:26:18.822624Z",
          "shell.execute_reply.started": "2023-06-26T22:26:18.756600Z"
        },
        "id": "SdqPPALQ1HuI"
      },
      "outputs": [],
      "source": [
        "all_df = pd.DataFrame(df_dict)"
      ]
    },
    {
      "cell_type": "code",
      "execution_count": 30,
      "metadata": {
        "execution": {
          "iopub.execute_input": "2023-06-26T22:26:18.826603Z",
          "iopub.status.busy": "2023-06-26T22:26:18.825927Z",
          "iopub.status.idle": "2023-06-26T22:26:19.028588Z",
          "shell.execute_reply": "2023-06-26T22:26:19.027488Z",
          "shell.execute_reply.started": "2023-06-26T22:26:18.826566Z"
        },
        "id": "5J1BIwi_1HuI"
      },
      "outputs": [],
      "source": [
        "all_df2 = all_df.merge(df, how='outer', on=\"word\")"
      ]
    },
    {
      "cell_type": "code",
      "execution_count": 31,
      "metadata": {
        "execution": {
          "iopub.execute_input": "2023-06-26T22:26:19.102391Z",
          "iopub.status.busy": "2023-06-26T22:26:19.101723Z",
          "iopub.status.idle": "2023-06-26T22:26:19.240178Z",
          "shell.execute_reply": "2023-06-26T22:26:19.239195Z",
          "shell.execute_reply.started": "2023-06-26T22:26:19.102350Z"
        },
        "id": "eBkUO_gu1HuI"
      },
      "outputs": [],
      "source": [
        "all_df2 = all_df2.fillna(0)\n",
        "all_df2['weight'] = all_df2['weight_x'] + all_df2['weight_y']"
      ]
    },
    {
      "cell_type": "code",
      "execution_count": 32,
      "metadata": {
        "execution": {
          "iopub.execute_input": "2023-06-26T22:26:19.318609Z",
          "iopub.status.busy": "2023-06-26T22:26:19.317470Z",
          "iopub.status.idle": "2023-06-26T22:26:19.380346Z",
          "shell.execute_reply": "2023-06-26T22:26:19.379166Z",
          "shell.execute_reply.started": "2023-06-26T22:26:19.318570Z"
        },
        "id": "Ud526UZM1HuJ"
      },
      "outputs": [],
      "source": [
        "pos_words = df[df['weight'] <= 1]\n",
        "filtered_df = df[df['weight'] > 1]\n"
      ]
    },
    {
      "cell_type": "markdown",
      "metadata": {
        "id": "fZ1kktfvXLi8"
      },
      "source": [
        "# CondBert"
      ]
    },
    {
      "cell_type": "code",
      "execution_count": 102,
      "metadata": {
        "execution": {
          "iopub.execute_input": "2023-06-26T22:26:19.382951Z",
          "iopub.status.busy": "2023-06-26T22:26:19.382309Z",
          "iopub.status.idle": "2023-06-26T22:26:20.895479Z",
          "shell.execute_reply": "2023-06-26T22:26:20.894460Z",
          "shell.execute_reply.started": "2023-06-26T22:26:19.382913Z"
        },
        "id": "-z7t3qtN1HuJ"
      },
      "outputs": [],
      "source": [
        "import torch\n",
        "from collections import defaultdict\n",
        "\n",
        "\n",
        "def group_by_first_token(texts, tokenizer):\n",
        "    encoded_seqs = []\n",
        "    for text in texts:\n",
        "        encoded_seqs.append(tokenizer.encode(text, add_special_tokens=False))\n",
        "    grouped_seqs = defaultdict(list)\n",
        "    for seq in encoded_seqs:\n",
        "        first_token = seq[0]\n",
        "        grouped_seqs[first_token].append(seq)\n",
        "    return grouped_seqs\n",
        "\n",
        "\n",
        "class CondBert:\n",
        "    def __init__(self, model, tokenizer, device, toxic_words, word2coef, token_toxic_weights):\n",
        "        self.model = model\n",
        "        self.tokenizer = tokenizer\n",
        "        self.device = device\n",
        "        self.word2coef = word2coef\n",
        "        self.v = dict((v, k) for k, v in tokenizer.vocab.items())\n",
        "        self.toxic_weights = torch.tensor(token_toxic_weights).to(self.device)\n",
        "        self.neg_complex_tokens = group_by_first_token(toxic_words, self.tokenizer)\n",
        "        self.mask_index = self.tokenizer.convert_tokens_to_ids(\"[MASK]\")\n",
        "\n",
        "    def create_mask_fast(self, input_text, bad_words=None):\n",
        "        if bad_words is None:\n",
        "            bad_words = self.negative_complex_tokens\n",
        "\n",
        "        sentences = [self.tokenizer.encode(input_text, add_special_tokens=True)]\n",
        "        sentences_torch = torch.tensor(sentences)\n",
        "        masks = torch.zeros_like(sentences_torch)\n",
        "\n",
        "        for sentence_id, sentence in enumerate(sentences):\n",
        "            masks = self.process_bad_words(sentence, sentence_id, masks, bad_words)\n",
        "\n",
        "        return sentences_torch, masks\n",
        "\n",
        "\n",
        "    def process_bad_words(self, sentence, sentence_id, masks, bad_words):\n",
        "        for first_token_id, token in enumerate(sentence):\n",
        "            for hypothesis in bad_words.get(token, []):\n",
        "                if sentence[first_token_id: (first_token_id + len(hypothesis))] == hypothesis:\n",
        "                    for step in range(len(hypothesis)):\n",
        "                        masks[sentence_id, first_token_id + step] = 1\n",
        "                    for offset, next_token in enumerate(sentence[(first_token_id + len(hypothesis)):]):\n",
        "                        if self.tokenizer.convert_ids_to_tokens(next_token).startswith('##'):\n",
        "                            masks[sentence_id, first_token_id + len(hypothesis) + offset] = 1\n",
        "                        else:\n",
        "                            break\n",
        "        return masks\n",
        "\n",
        "\n",
        "\n",
        "\n",
        "    def translate(self, input_sentence, toxic_weight=15, contrast_weight=0):\n",
        "        tokens, attention_mask  = self.create_mask_fast(input_sentence, bad_words=self.neg_complex_tokens)\n",
        "        tokens[attention_mask == 1] = self.mask_index\n",
        "        tokens = tokens.to(self.device)\n",
        "        self.model.eval()\n",
        "        predictions = self.model(tokens, token_type_ids=torch.zeros_like(tokens))\n",
        "        neg_predictions = self.model(tokens, token_type_ids=torch.ones_like(tokens) * (1 if contrast_weight else 0))\n",
        "        for i in range(tokens.shape[0]):\n",
        "            log_probs = predictions[-1][i][attention_mask[i] == 1]\n",
        "            if toxic_weight:\n",
        "                log_probs -= self.toxic_weights * toxic_weight\n",
        "            if contrast_weight:\n",
        "                neg_log_probs = neg_predictions[-1][i][attention_mask[i] == 1]\n",
        "                scores = torch.softmax(log_probs - neg_log_probs * contrast_weight, -1)\n",
        "            else:\n",
        "                scores = torch.softmax(log_probs, -1)\n",
        "            tokens[i, attention_mask[i] == 1] = scores.argmax(dim=1)\n",
        "        output = self.tokenizer.convert_tokens_to_string([self.tokenizer.convert_ids_to_tokens(token.item()) for token in tokens[0, 1:-1]])\n",
        "        return output.split('[SEP] [CLS] ')[-1]"
      ]
    },
    {
      "cell_type": "code",
      "execution_count": null,
      "metadata": {
        "execution": {
          "iopub.execute_input": "2023-06-26T22:26:20.897754Z",
          "iopub.status.busy": "2023-06-26T22:26:20.896925Z",
          "iopub.status.idle": "2023-06-26T22:26:33.852300Z",
          "shell.execute_reply": "2023-06-26T22:26:33.850951Z",
          "shell.execute_reply.started": "2023-06-26T22:26:20.897717Z"
        },
        "id": "wscugSsS1HuJ"
      },
      "outputs": [],
      "source": [
        "!pip install transformers\n"
      ]
    },
    {
      "cell_type": "code",
      "execution_count": 35,
      "metadata": {
        "execution": {
          "iopub.execute_input": "2023-06-26T22:26:33.861120Z",
          "iopub.status.busy": "2023-06-26T22:26:33.860749Z",
          "iopub.status.idle": "2023-06-26T22:27:05.528835Z",
          "shell.execute_reply": "2023-06-26T22:27:05.527737Z",
          "shell.execute_reply.started": "2023-06-26T22:26:33.861087Z"
        },
        "id": "RVQDNhKZ1HuK",
        "colab": {
          "base_uri": "https://localhost:8080/",
          "height": 155,
          "referenced_widgets": [
            "41361e8e8b60478188980ab5a89f6dc0",
            "1be092a11e944c30b4870c5fc732b8b8",
            "5c55a791ffb944ef9c149d4e65a5b537",
            "1b0c2ca1b6e144049f062f6339b2fe76",
            "6e2247e5f45c454bac84a37a5169e256",
            "70c8c538f67d48119690d37d2b082c30",
            "d2b4db28e1754051898761b452944ca9",
            "6499848e159f4187ae6755268970aa7c",
            "d2ac4d3b89e145ebaf933a08234fa1d5",
            "bf2a3c4b38ac46fab827c4eb39edeaaf",
            "8ae91cb125a3422f976fb80316b0e245",
            "1ee8dd602ce148ac8d7c4b2f0764689c",
            "f259de95d3734760a28917d0db2a2073",
            "0aeb7184cf04493db494ed20b0eef522",
            "5c214b6c03de422182e72e65c36eeafa",
            "c9b707f58d2b485b92cd61e12fa27db4",
            "654bc78fbd55453bb69f9bbb6826903b",
            "155e1d3e9ca34ca6a6a3e3ca43a94014",
            "cbc4d9e784264f72979eaaf0be522298",
            "9ae8b6cc871c46a5a49c40bdde16a9e8",
            "b8219b2ccc5747ef96134f5dfd57c46b",
            "2dab4066ff154bed94b0796c90b71dd4"
          ]
        },
        "outputId": "52398fd6-b091-48c0-88f4-71165f1b837a"
      },
      "outputs": [
        {
          "output_type": "display_data",
          "data": {
            "text/plain": [
              "Downloading (…)lve/main/config.json:   0%|          | 0.00/642 [00:00<?, ?B/s]"
            ],
            "application/vnd.jupyter.widget-view+json": {
              "version_major": 2,
              "version_minor": 0,
              "model_id": "41361e8e8b60478188980ab5a89f6dc0"
            }
          },
          "metadata": {}
        },
        {
          "output_type": "display_data",
          "data": {
            "text/plain": [
              "Downloading pytorch_model.bin:   0%|          | 0.00/714M [00:00<?, ?B/s]"
            ],
            "application/vnd.jupyter.widget-view+json": {
              "version_major": 2,
              "version_minor": 0,
              "model_id": "1ee8dd602ce148ac8d7c4b2f0764689c"
            }
          },
          "metadata": {}
        },
        {
          "output_type": "stream",
          "name": "stderr",
          "text": [
            "Some weights of the model checkpoint at DeepPavlov/rubert-base-cased-conversational were not used when initializing BertForMaskedLM: ['cls.seq_relationship.weight', 'cls.seq_relationship.bias']\n",
            "- This IS expected if you are initializing BertForMaskedLM from the checkpoint of a model trained on another task or with another architecture (e.g. initializing a BertForSequenceClassification model from a BertForPreTraining model).\n",
            "- This IS NOT expected if you are initializing BertForMaskedLM from the checkpoint of a model that you expect to be exactly identical (initializing a BertForSequenceClassification model from a BertForSequenceClassification model).\n"
          ]
        }
      ],
      "source": [
        "import torch\n",
        "from torch.utils.data import TensorDataset, DataLoader, RandomSampler, SequentialSampler\n",
        "from transformers import BertTokenizer, BertForSequenceClassification, AdamW, BertForMaskedLM\n",
        "\n",
        "from tqdm import tqdm\n",
        "\n",
        "\n",
        "model = BertForMaskedLM.from_pretrained('DeepPavlov/rubert-base-cased-conversational')\n"
      ]
    },
    {
      "cell_type": "code",
      "execution_count": 36,
      "metadata": {
        "execution": {
          "iopub.execute_input": "2023-06-26T22:27:05.536531Z",
          "iopub.status.busy": "2023-06-26T22:27:05.533884Z",
          "iopub.status.idle": "2023-06-26T22:27:06.787588Z",
          "shell.execute_reply": "2023-06-26T22:27:06.786428Z",
          "shell.execute_reply.started": "2023-06-26T22:27:05.536488Z"
        },
        "id": "Gkvxzusk1HuP",
        "colab": {
          "base_uri": "https://localhost:8080/",
          "height": 113,
          "referenced_widgets": [
            "fb88d087ed314ff98c0159a456286b5c",
            "d09d640e0dca4c80b9a206a581b14c1d",
            "8bc61228c0e74f02a0cf1bb6f2bd11b6",
            "b9c3c79fba544040a684b6be5a213539",
            "3aef0451b8664865b2015a480712f555",
            "9bd839d7453e4a4f82d32a87026e3068",
            "f3dd2471c07947968f5171de7e815cac",
            "802fd11c129a410cae5c6ac17b3653e2",
            "be7377d31adb4789a31d77a307ea56fd",
            "ff7f345c69924fbf877b560d1c14ec20",
            "de46871b532648abbc7c5cfbea0d566c",
            "5c57bf63ef1241278540d4e2cdad4a04",
            "45a01b5820ee4fae9bc3c4ad19525c96",
            "7e369f9781284f64a0f9df6393c4faeb",
            "72dc59ced19e4e2999e64a725a3625d5",
            "693a56f1e52541218e16acfe78fafe90",
            "31efb1e3b8ee4650807fda35421a0185",
            "67c04e579d224abf8190f921495922ac",
            "2cc9655da65a4b5d8233a178af7da6be",
            "94d101e6271749ca9602ca1d403b0a62",
            "ee00f0bda384482b854506e6a5d13132",
            "c8b67f8890fa4a599a65ece29a8054a2",
            "8e95f9df271e440fad1bac30eda89c6f",
            "2177755e06294ddbb4f79172ec26168e",
            "cd53a67a6db240e9a09b13bf7f86681e",
            "b3f432a43cbf497981e6942bbe685313",
            "7a7e5926885540d8b867d48622f2edef",
            "deb2409512ec439cbf9a467a9583a841",
            "8b6a3d958062470aa74036319ab70726",
            "c7c2f0bc8ed24a5e8791436b203ee597",
            "118cfc674b7745579c832b879ad5ddfa",
            "0020d8a4597b493986f0d642fb80d726",
            "5cbe248e2e934374a1a4752a8355c914"
          ]
        },
        "outputId": "28bd133b-801f-4afe-df33-daaf5a0df2b9"
      },
      "outputs": [
        {
          "output_type": "display_data",
          "data": {
            "text/plain": [
              "Downloading (…)solve/main/vocab.txt:   0%|          | 0.00/1.40M [00:00<?, ?B/s]"
            ],
            "application/vnd.jupyter.widget-view+json": {
              "version_major": 2,
              "version_minor": 0,
              "model_id": "fb88d087ed314ff98c0159a456286b5c"
            }
          },
          "metadata": {}
        },
        {
          "output_type": "display_data",
          "data": {
            "text/plain": [
              "Downloading (…)cial_tokens_map.json:   0%|          | 0.00/112 [00:00<?, ?B/s]"
            ],
            "application/vnd.jupyter.widget-view+json": {
              "version_major": 2,
              "version_minor": 0,
              "model_id": "5c57bf63ef1241278540d4e2cdad4a04"
            }
          },
          "metadata": {}
        },
        {
          "output_type": "display_data",
          "data": {
            "text/plain": [
              "Downloading (…)okenizer_config.json:   0%|          | 0.00/24.0 [00:00<?, ?B/s]"
            ],
            "application/vnd.jupyter.widget-view+json": {
              "version_major": 2,
              "version_minor": 0,
              "model_id": "8e95f9df271e440fad1bac30eda89c6f"
            }
          },
          "metadata": {}
        }
      ],
      "source": [
        "tokenizer = BertTokenizer.from_pretrained('DeepPavlov/rubert-base-cased-conversational')"
      ]
    },
    {
      "cell_type": "code",
      "execution_count": 37,
      "metadata": {
        "execution": {
          "iopub.execute_input": "2023-06-26T22:27:08.405348Z",
          "iopub.status.busy": "2023-06-26T22:27:08.404589Z",
          "iopub.status.idle": "2023-06-26T22:27:08.552806Z",
          "shell.execute_reply": "2023-06-26T22:27:08.551471Z",
          "shell.execute_reply.started": "2023-06-26T22:27:08.405308Z"
        },
        "id": "dhEvUlHK1HuP"
      },
      "outputs": [],
      "source": [
        "token_toxicities = all_df2['weight'].to_numpy()\n",
        "token_toxicities = token_toxicities[:119547]\n",
        "# token_toxicities = np.pad(token_toxicities, (0, 119547-all_df2.shape[0]))"
      ]
    },
    {
      "cell_type": "code",
      "execution_count": 38,
      "metadata": {
        "execution": {
          "iopub.execute_input": "2023-06-26T22:27:08.557039Z",
          "iopub.status.busy": "2023-06-26T22:27:08.555978Z",
          "iopub.status.idle": "2023-06-26T22:27:08.980775Z",
          "shell.execute_reply": "2023-06-26T22:27:08.979476Z",
          "shell.execute_reply.started": "2023-06-26T22:27:08.556998Z"
        },
        "id": "bMEW3ic31HuQ"
      },
      "outputs": [],
      "source": [
        "word2coef = all_df2[['word', 'weight']].set_index('word').to_dict()\n",
        "word2coef = word2coef['weight']"
      ]
    },
    {
      "cell_type": "code",
      "execution_count": 39,
      "metadata": {
        "execution": {
          "iopub.execute_input": "2023-06-26T22:27:08.982754Z",
          "iopub.status.busy": "2023-06-26T22:27:08.982163Z",
          "iopub.status.idle": "2023-06-26T22:27:09.138803Z",
          "shell.execute_reply": "2023-06-26T22:27:09.137461Z",
          "shell.execute_reply.started": "2023-06-26T22:27:08.982719Z"
        },
        "id": "NsVDh0PE1HuQ"
      },
      "outputs": [],
      "source": [
        "token_toxicities_e = 1/(1+np.exp(token_toxicities))"
      ]
    },
    {
      "cell_type": "code",
      "execution_count": 40,
      "metadata": {
        "id": "dnMZKvlR8uiD",
        "colab": {
          "base_uri": "https://localhost:8080/"
        },
        "outputId": "e38638a3-23e9-4e32-bd4b-d17171596309"
      },
      "outputs": [
        {
          "output_type": "execute_result",
          "data": {
            "text/plain": [
              "array([0.5       , 0.5       , 0.5       , ..., 0.26722567, 0.50527032,\n",
              "       0.51194991])"
            ]
          },
          "metadata": {},
          "execution_count": 40
        }
      ],
      "source": [
        "token_toxicities_e"
      ]
    },
    {
      "cell_type": "code",
      "execution_count": 103,
      "metadata": {
        "colab": {
          "base_uri": "https://localhost:8080/"
        },
        "execution": {
          "iopub.execute_input": "2023-06-26T22:27:09.141675Z",
          "iopub.status.busy": "2023-06-26T22:27:09.140880Z",
          "iopub.status.idle": "2023-06-26T22:27:25.921293Z",
          "shell.execute_reply": "2023-06-26T22:27:25.920230Z",
          "shell.execute_reply.started": "2023-06-26T22:27:09.141633Z"
        },
        "id": "pSn9HqiL1HuQ",
        "outputId": "ad38bc6c-3895-4baa-e174-c9c728391b3f"
      },
      "outputs": [
        {
          "output_type": "stream",
          "name": "stdout",
          "text": [
            "Input sentence: не дай бог моя дочь так оденется убью нахуй палкой\n",
            "Translated sentence: не дай бог моя дочь так оденется убью чучело палкой\n"
          ]
        }
      ],
      "source": [
        "toxic_words = filtered_df['word']  # Example list of toxic words\n",
        "input_sentence = \"не дай бог моя дочь так оденется убью нахуй палкой\"\n",
        "model = model.to('cpu')\n",
        "rewriter = CondBert(model, tokenizer, \"cpu\", toxic_words=toxic_words, word2coef=word2coef, token_toxic_weights=token_toxicities_e)\n",
        "translated_sentence = rewriter.translate(input_sentence)\n",
        "print(\"Input sentence:\", input_sentence)\n",
        "print(\"Translated sentence:\", translated_sentence)\n"
      ]
    },
    {
      "cell_type": "markdown",
      "metadata": {
        "id": "n646VnSi1HuQ"
      },
      "source": [
        "# Finetune"
      ]
    },
    {
      "cell_type": "code",
      "execution_count": 104,
      "metadata": {
        "execution": {
          "iopub.execute_input": "2023-06-26T22:27:25.927777Z",
          "iopub.status.busy": "2023-06-26T22:27:25.925587Z",
          "iopub.status.idle": "2023-06-26T22:27:26.119108Z",
          "shell.execute_reply": "2023-06-26T22:27:26.117953Z",
          "shell.execute_reply.started": "2023-06-26T22:27:25.927742Z"
        },
        "id": "RGfDHXza1HuQ"
      },
      "outputs": [],
      "source": [
        "X = data['comment']\n",
        "y = data['toxic']\n",
        "# split data into train and test\n",
        "X_train, X_val, y_train, y_val = train_test_split(X, y.to_numpy(dtype=np.int64), random_state=42)"
      ]
    },
    {
      "cell_type": "code",
      "execution_count": 105,
      "metadata": {
        "execution": {
          "iopub.execute_input": "2023-06-26T22:29:28.444148Z",
          "iopub.status.busy": "2023-06-26T22:29:28.443013Z",
          "iopub.status.idle": "2023-06-26T22:29:28.571735Z",
          "shell.execute_reply": "2023-06-26T22:29:28.570353Z",
          "shell.execute_reply.started": "2023-06-26T22:29:28.444082Z"
        },
        "id": "SSC-w3od1HuQ"
      },
      "outputs": [],
      "source": [
        "from torch.utils.data import DataLoader, Dataset\n",
        "model.train()\n",
        "\n",
        "class CustomDataset(Dataset):\n",
        "    def __init__(self, texts, labels, tokenizer):\n",
        "        self.texts = texts\n",
        "        self.labels = labels\n",
        "        self.tokenizer = tokenizer\n",
        "\n",
        "    def __len__(self):\n",
        "        return len(self.labels)\n",
        "\n",
        "    def __getitem__(self, idx):\n",
        "        text = self.texts[idx]\n",
        "        label = self.labels[idx]\n",
        "        encoding = self.tokenizer.encode_plus(\n",
        "            text,\n",
        "            add_special_tokens=True,\n",
        "            max_length=16,\n",
        "            padding=\"max_length\",\n",
        "            truncation=True,\n",
        "            return_tensors=\"pt\"\n",
        "        )\n",
        "        return {\n",
        "            \"input_ids\": encoding[\"input_ids\"].flatten(),\n",
        "            \"attention_mask\": encoding[\"attention_mask\"].flatten(),\n",
        "            \"label\": encoding[\"input_ids\"].flatten()\n",
        "        }\n",
        "\n",
        "\n",
        "train_dataset = CustomDataset(X_train.to_list(), y_train, tokenizer)\n",
        "val_dataset = CustomDataset(X_val.to_list(), y_val, tokenizer)\n",
        "\n",
        "train_dataloader = DataLoader(train_dataset, batch_size=16, shuffle=True)\n",
        "test_dataloader = DataLoader(val_dataset, batch_size=16)"
      ]
    },
    {
      "cell_type": "code",
      "execution_count": null,
      "metadata": {
        "execution": {
          "iopub.execute_input": "2023-06-26T22:29:38.620707Z",
          "iopub.status.busy": "2023-06-26T22:29:38.620258Z",
          "iopub.status.idle": "2023-06-26T22:29:50.287171Z",
          "shell.execute_reply": "2023-06-26T22:29:50.283636Z",
          "shell.execute_reply.started": "2023-06-26T22:29:38.620669Z"
        },
        "id": "VtcWmAf81HuR"
      },
      "outputs": [],
      "source": [
        "from torch import nn\n",
        "device = \"cpu\"\n",
        "model = model.to(device)\n",
        "loss = nn.BCELoss()\n",
        "optimizer = torch.optim.Adam(model.parameters(), 3e-5)\n",
        "toxic_weights = torch.tensor(token_toxicities_e).to(device)\n",
        "for epoch in tqdm(range(3)):\n",
        "    train_loss = 0\n",
        "    i = 0\n",
        "    for batch in tqdm(iter(train_dataloader)):\n",
        "        X = batch['input_ids'].to(device)\n",
        "        mask = batch['attention_mask'].to(device)\n",
        "        y = batch['label'].to(device)\n",
        "        optimizer.zero_grad()\n",
        "        outputs = model(X, attention_mask=mask,\n",
        "                        labels=y)\n",
        "\n",
        "        idx = outputs.logits.argmax(2)\n",
        "        loss = outputs.loss + (toxic_weights[idx[mask==1]] ** 2).sum()\n",
        "        loss.backward()\n",
        "        optimizer.step()\n",
        "        train_loss += loss.item()\n",
        "        i += len(X)\n",
        "    train_loss /= i\n",
        "  #Test\n",
        "    loss_test = 0\n",
        "    elements = 0\n",
        "    for item in iter(test_dataloader):\n",
        "        X = batch['input_ids'].to(device)\n",
        "        mask = batch['attention_mask'].to(device)\n",
        "        y = batch['label'].to(device)\n",
        "        optimizer.zero_grad()\n",
        "        outputs = model(X, attention_mask=mask,\n",
        "                        labels=y)\n",
        "\n",
        "        idx = outputs.logits.argmax(2)\n",
        "        loss = outputs.loss + (toxic_weights[idx[mask==1]] ** 2).sum()\n",
        "        loss_test += loss.item()\n",
        "        elements += len(X)\n",
        "    loss_test = loss_test / elements\n",
        "    print(\"\\nEpoch\", epoch, \"| Train loss\", train_loss, \"| Test loss\", loss_test)\n"
      ]
    },
    {
      "cell_type": "code",
      "execution_count": 108,
      "metadata": {
        "colab": {
          "base_uri": "https://localhost:8080/"
        },
        "id": "mxqk2QcxRBT-",
        "outputId": "8431cd82-abad-4517-e3d0-3bfe6ee72181"
      },
      "outputs": [
        {
          "output_type": "stream",
          "name": "stdout",
          "text": [
            "Mounted at /content/drive\n"
          ]
        }
      ],
      "source": [
        "from google.colab import drive\n",
        "drive.mount('/content/drive')\n",
        "\n",
        "sources_path = \"/content/drive/MyDrive\""
      ]
    },
    {
      "cell_type": "code",
      "execution_count": null,
      "metadata": {
        "id": "b8W9xquW1HuS"
      },
      "outputs": [],
      "source": [
        "torch.save(model, sources_path + '/model.pkl')"
      ]
    },
    {
      "cell_type": "markdown",
      "metadata": {
        "id": "Q2b7piA9NMD2"
      },
      "source": [
        "# Testing\n"
      ]
    },
    {
      "cell_type": "code",
      "execution_count": 111,
      "metadata": {
        "id": "-_tC2CkCcIwW"
      },
      "outputs": [],
      "source": [
        "model_f = torch.load(sources_path + '/model.pkl', map_location=torch.device('cpu'))"
      ]
    },
    {
      "cell_type": "code",
      "source": [
        "input_sentence = \"не дай бог моя дочь так оденется убью нахуй палкой\"\n",
        "model_f = model_f.to('cpu')\n",
        "CondBert(model_f, tokenizer, \"cpu\", toxic_words=toxic_words, word2coef=word2coef, token_toxic_weights=token_toxicities_e)\n",
        "translated_sentence = rewriter.translate(input_sentence)\n",
        "print(\"Input sentence:\", input_sentence)\n",
        "print(\"Translated sentence:\", translated_sentence)"
      ],
      "metadata": {
        "colab": {
          "base_uri": "https://localhost:8080/"
        },
        "id": "Ign1QTONaL7r",
        "outputId": "0b64a873-3839-406f-f161-8152b89f1a11"
      },
      "execution_count": 114,
      "outputs": [
        {
          "output_type": "stream",
          "name": "stdout",
          "text": [
            "Input sentence: не дай бог моя дочь так оденется убью нахуй палкой\n",
            "Translated sentence: не дай бог моя дочь так оденется убью чучело палкой\n"
          ]
        }
      ]
    },
    {
      "cell_type": "code",
      "execution_count": null,
      "metadata": {
        "id": "rDrPhF0TNRny"
      },
      "outputs": [],
      "source": [
        "# prepare df\n",
        "test_comments1 = data[data['toxic'] == 1]\n",
        "test_comments = test_comments1.reset_index()\n",
        "idxs = np.random.randint(0, test_comments.shape[0], size=10000)\n",
        "test_comments = test_comments.iloc[idxs]\n",
        "test_comments = test_comments[~(test_comments['comment'] == '')]\n",
        "test_comments.to_csv(\"test_comments.csv\")"
      ]
    },
    {
      "cell_type": "code",
      "source": [
        "def test(model, df, out_file):\n",
        "  rewriter = CondBert(model_f, tokenizer, \"cpu\", toxic_words=toxic_words, word2coef=word2coef, token_toxic_weights=token_toxicities_e)\n",
        "  translated = []\n",
        "  for i,comment in tqdm(enumerate(df['comment'])):\n",
        "      try:\n",
        "          translated.append(rewriter.translate(comment))\n",
        "      except:\n",
        "          translated.append(comment)\n",
        "  df['translated'] = translated\n",
        "  df.to_csv(out_file)\n"
      ],
      "metadata": {
        "id": "Z1f1zGxlXx9k"
      },
      "execution_count": 120,
      "outputs": []
    },
    {
      "cell_type": "code",
      "execution_count": null,
      "metadata": {
        "id": "T1rXEzNyTAKD",
        "colab": {
          "base_uri": "https://localhost:8080/"
        },
        "outputId": "c601f447-338b-40e0-b1ab-0950e0507d94"
      },
      "outputs": [
        {
          "output_type": "stream",
          "name": "stderr",
          "text": [
            "51it [00:17,  2.89it/s]"
          ]
        }
      ],
      "source": [
        "test_comments = pd.read_csv('test_comments.csv')\n",
        "\n",
        "test(model, test_comments, 'test_comments_zero_shooting.csv')\n",
        "test(model_f, test_comments, 'test_comments_finetuned.csv')"
      ]
    },
    {
      "cell_type": "code",
      "source": [],
      "metadata": {
        "id": "0jXQji3tXbAE"
      },
      "execution_count": null,
      "outputs": []
    }
  ],
  "metadata": {
    "accelerator": "GPU",
    "colab": {
      "gpuType": "T4",
      "provenance": []
    },
    "kernelspec": {
      "display_name": "Python 3 (ipykernel)",
      "language": "python",
      "name": "python3"
    },
    "language_info": {
      "codemirror_mode": {
        "name": "ipython",
        "version": 3
      },
      "file_extension": ".py",
      "mimetype": "text/x-python",
      "name": "python",
      "nbconvert_exporter": "python",
      "pygments_lexer": "ipython3",
      "version": "3.9.13"
    },
    "widgets": {
      "application/vnd.jupyter.widget-state+json": {
        "41361e8e8b60478188980ab5a89f6dc0": {
          "model_module": "@jupyter-widgets/controls",
          "model_name": "HBoxModel",
          "model_module_version": "1.5.0",
          "state": {
            "_dom_classes": [],
            "_model_module": "@jupyter-widgets/controls",
            "_model_module_version": "1.5.0",
            "_model_name": "HBoxModel",
            "_view_count": null,
            "_view_module": "@jupyter-widgets/controls",
            "_view_module_version": "1.5.0",
            "_view_name": "HBoxView",
            "box_style": "",
            "children": [
              "IPY_MODEL_1be092a11e944c30b4870c5fc732b8b8",
              "IPY_MODEL_5c55a791ffb944ef9c149d4e65a5b537",
              "IPY_MODEL_1b0c2ca1b6e144049f062f6339b2fe76"
            ],
            "layout": "IPY_MODEL_6e2247e5f45c454bac84a37a5169e256"
          }
        },
        "1be092a11e944c30b4870c5fc732b8b8": {
          "model_module": "@jupyter-widgets/controls",
          "model_name": "HTMLModel",
          "model_module_version": "1.5.0",
          "state": {
            "_dom_classes": [],
            "_model_module": "@jupyter-widgets/controls",
            "_model_module_version": "1.5.0",
            "_model_name": "HTMLModel",
            "_view_count": null,
            "_view_module": "@jupyter-widgets/controls",
            "_view_module_version": "1.5.0",
            "_view_name": "HTMLView",
            "description": "",
            "description_tooltip": null,
            "layout": "IPY_MODEL_70c8c538f67d48119690d37d2b082c30",
            "placeholder": "​",
            "style": "IPY_MODEL_d2b4db28e1754051898761b452944ca9",
            "value": "Downloading (…)lve/main/config.json: 100%"
          }
        },
        "5c55a791ffb944ef9c149d4e65a5b537": {
          "model_module": "@jupyter-widgets/controls",
          "model_name": "FloatProgressModel",
          "model_module_version": "1.5.0",
          "state": {
            "_dom_classes": [],
            "_model_module": "@jupyter-widgets/controls",
            "_model_module_version": "1.5.0",
            "_model_name": "FloatProgressModel",
            "_view_count": null,
            "_view_module": "@jupyter-widgets/controls",
            "_view_module_version": "1.5.0",
            "_view_name": "ProgressView",
            "bar_style": "success",
            "description": "",
            "description_tooltip": null,
            "layout": "IPY_MODEL_6499848e159f4187ae6755268970aa7c",
            "max": 642,
            "min": 0,
            "orientation": "horizontal",
            "style": "IPY_MODEL_d2ac4d3b89e145ebaf933a08234fa1d5",
            "value": 642
          }
        },
        "1b0c2ca1b6e144049f062f6339b2fe76": {
          "model_module": "@jupyter-widgets/controls",
          "model_name": "HTMLModel",
          "model_module_version": "1.5.0",
          "state": {
            "_dom_classes": [],
            "_model_module": "@jupyter-widgets/controls",
            "_model_module_version": "1.5.0",
            "_model_name": "HTMLModel",
            "_view_count": null,
            "_view_module": "@jupyter-widgets/controls",
            "_view_module_version": "1.5.0",
            "_view_name": "HTMLView",
            "description": "",
            "description_tooltip": null,
            "layout": "IPY_MODEL_bf2a3c4b38ac46fab827c4eb39edeaaf",
            "placeholder": "​",
            "style": "IPY_MODEL_8ae91cb125a3422f976fb80316b0e245",
            "value": " 642/642 [00:00&lt;00:00, 43.4kB/s]"
          }
        },
        "6e2247e5f45c454bac84a37a5169e256": {
          "model_module": "@jupyter-widgets/base",
          "model_name": "LayoutModel",
          "model_module_version": "1.2.0",
          "state": {
            "_model_module": "@jupyter-widgets/base",
            "_model_module_version": "1.2.0",
            "_model_name": "LayoutModel",
            "_view_count": null,
            "_view_module": "@jupyter-widgets/base",
            "_view_module_version": "1.2.0",
            "_view_name": "LayoutView",
            "align_content": null,
            "align_items": null,
            "align_self": null,
            "border": null,
            "bottom": null,
            "display": null,
            "flex": null,
            "flex_flow": null,
            "grid_area": null,
            "grid_auto_columns": null,
            "grid_auto_flow": null,
            "grid_auto_rows": null,
            "grid_column": null,
            "grid_gap": null,
            "grid_row": null,
            "grid_template_areas": null,
            "grid_template_columns": null,
            "grid_template_rows": null,
            "height": null,
            "justify_content": null,
            "justify_items": null,
            "left": null,
            "margin": null,
            "max_height": null,
            "max_width": null,
            "min_height": null,
            "min_width": null,
            "object_fit": null,
            "object_position": null,
            "order": null,
            "overflow": null,
            "overflow_x": null,
            "overflow_y": null,
            "padding": null,
            "right": null,
            "top": null,
            "visibility": null,
            "width": null
          }
        },
        "70c8c538f67d48119690d37d2b082c30": {
          "model_module": "@jupyter-widgets/base",
          "model_name": "LayoutModel",
          "model_module_version": "1.2.0",
          "state": {
            "_model_module": "@jupyter-widgets/base",
            "_model_module_version": "1.2.0",
            "_model_name": "LayoutModel",
            "_view_count": null,
            "_view_module": "@jupyter-widgets/base",
            "_view_module_version": "1.2.0",
            "_view_name": "LayoutView",
            "align_content": null,
            "align_items": null,
            "align_self": null,
            "border": null,
            "bottom": null,
            "display": null,
            "flex": null,
            "flex_flow": null,
            "grid_area": null,
            "grid_auto_columns": null,
            "grid_auto_flow": null,
            "grid_auto_rows": null,
            "grid_column": null,
            "grid_gap": null,
            "grid_row": null,
            "grid_template_areas": null,
            "grid_template_columns": null,
            "grid_template_rows": null,
            "height": null,
            "justify_content": null,
            "justify_items": null,
            "left": null,
            "margin": null,
            "max_height": null,
            "max_width": null,
            "min_height": null,
            "min_width": null,
            "object_fit": null,
            "object_position": null,
            "order": null,
            "overflow": null,
            "overflow_x": null,
            "overflow_y": null,
            "padding": null,
            "right": null,
            "top": null,
            "visibility": null,
            "width": null
          }
        },
        "d2b4db28e1754051898761b452944ca9": {
          "model_module": "@jupyter-widgets/controls",
          "model_name": "DescriptionStyleModel",
          "model_module_version": "1.5.0",
          "state": {
            "_model_module": "@jupyter-widgets/controls",
            "_model_module_version": "1.5.0",
            "_model_name": "DescriptionStyleModel",
            "_view_count": null,
            "_view_module": "@jupyter-widgets/base",
            "_view_module_version": "1.2.0",
            "_view_name": "StyleView",
            "description_width": ""
          }
        },
        "6499848e159f4187ae6755268970aa7c": {
          "model_module": "@jupyter-widgets/base",
          "model_name": "LayoutModel",
          "model_module_version": "1.2.0",
          "state": {
            "_model_module": "@jupyter-widgets/base",
            "_model_module_version": "1.2.0",
            "_model_name": "LayoutModel",
            "_view_count": null,
            "_view_module": "@jupyter-widgets/base",
            "_view_module_version": "1.2.0",
            "_view_name": "LayoutView",
            "align_content": null,
            "align_items": null,
            "align_self": null,
            "border": null,
            "bottom": null,
            "display": null,
            "flex": null,
            "flex_flow": null,
            "grid_area": null,
            "grid_auto_columns": null,
            "grid_auto_flow": null,
            "grid_auto_rows": null,
            "grid_column": null,
            "grid_gap": null,
            "grid_row": null,
            "grid_template_areas": null,
            "grid_template_columns": null,
            "grid_template_rows": null,
            "height": null,
            "justify_content": null,
            "justify_items": null,
            "left": null,
            "margin": null,
            "max_height": null,
            "max_width": null,
            "min_height": null,
            "min_width": null,
            "object_fit": null,
            "object_position": null,
            "order": null,
            "overflow": null,
            "overflow_x": null,
            "overflow_y": null,
            "padding": null,
            "right": null,
            "top": null,
            "visibility": null,
            "width": null
          }
        },
        "d2ac4d3b89e145ebaf933a08234fa1d5": {
          "model_module": "@jupyter-widgets/controls",
          "model_name": "ProgressStyleModel",
          "model_module_version": "1.5.0",
          "state": {
            "_model_module": "@jupyter-widgets/controls",
            "_model_module_version": "1.5.0",
            "_model_name": "ProgressStyleModel",
            "_view_count": null,
            "_view_module": "@jupyter-widgets/base",
            "_view_module_version": "1.2.0",
            "_view_name": "StyleView",
            "bar_color": null,
            "description_width": ""
          }
        },
        "bf2a3c4b38ac46fab827c4eb39edeaaf": {
          "model_module": "@jupyter-widgets/base",
          "model_name": "LayoutModel",
          "model_module_version": "1.2.0",
          "state": {
            "_model_module": "@jupyter-widgets/base",
            "_model_module_version": "1.2.0",
            "_model_name": "LayoutModel",
            "_view_count": null,
            "_view_module": "@jupyter-widgets/base",
            "_view_module_version": "1.2.0",
            "_view_name": "LayoutView",
            "align_content": null,
            "align_items": null,
            "align_self": null,
            "border": null,
            "bottom": null,
            "display": null,
            "flex": null,
            "flex_flow": null,
            "grid_area": null,
            "grid_auto_columns": null,
            "grid_auto_flow": null,
            "grid_auto_rows": null,
            "grid_column": null,
            "grid_gap": null,
            "grid_row": null,
            "grid_template_areas": null,
            "grid_template_columns": null,
            "grid_template_rows": null,
            "height": null,
            "justify_content": null,
            "justify_items": null,
            "left": null,
            "margin": null,
            "max_height": null,
            "max_width": null,
            "min_height": null,
            "min_width": null,
            "object_fit": null,
            "object_position": null,
            "order": null,
            "overflow": null,
            "overflow_x": null,
            "overflow_y": null,
            "padding": null,
            "right": null,
            "top": null,
            "visibility": null,
            "width": null
          }
        },
        "8ae91cb125a3422f976fb80316b0e245": {
          "model_module": "@jupyter-widgets/controls",
          "model_name": "DescriptionStyleModel",
          "model_module_version": "1.5.0",
          "state": {
            "_model_module": "@jupyter-widgets/controls",
            "_model_module_version": "1.5.0",
            "_model_name": "DescriptionStyleModel",
            "_view_count": null,
            "_view_module": "@jupyter-widgets/base",
            "_view_module_version": "1.2.0",
            "_view_name": "StyleView",
            "description_width": ""
          }
        },
        "1ee8dd602ce148ac8d7c4b2f0764689c": {
          "model_module": "@jupyter-widgets/controls",
          "model_name": "HBoxModel",
          "model_module_version": "1.5.0",
          "state": {
            "_dom_classes": [],
            "_model_module": "@jupyter-widgets/controls",
            "_model_module_version": "1.5.0",
            "_model_name": "HBoxModel",
            "_view_count": null,
            "_view_module": "@jupyter-widgets/controls",
            "_view_module_version": "1.5.0",
            "_view_name": "HBoxView",
            "box_style": "",
            "children": [
              "IPY_MODEL_f259de95d3734760a28917d0db2a2073",
              "IPY_MODEL_0aeb7184cf04493db494ed20b0eef522",
              "IPY_MODEL_5c214b6c03de422182e72e65c36eeafa"
            ],
            "layout": "IPY_MODEL_c9b707f58d2b485b92cd61e12fa27db4"
          }
        },
        "f259de95d3734760a28917d0db2a2073": {
          "model_module": "@jupyter-widgets/controls",
          "model_name": "HTMLModel",
          "model_module_version": "1.5.0",
          "state": {
            "_dom_classes": [],
            "_model_module": "@jupyter-widgets/controls",
            "_model_module_version": "1.5.0",
            "_model_name": "HTMLModel",
            "_view_count": null,
            "_view_module": "@jupyter-widgets/controls",
            "_view_module_version": "1.5.0",
            "_view_name": "HTMLView",
            "description": "",
            "description_tooltip": null,
            "layout": "IPY_MODEL_654bc78fbd55453bb69f9bbb6826903b",
            "placeholder": "​",
            "style": "IPY_MODEL_155e1d3e9ca34ca6a6a3e3ca43a94014",
            "value": "Downloading pytorch_model.bin: 100%"
          }
        },
        "0aeb7184cf04493db494ed20b0eef522": {
          "model_module": "@jupyter-widgets/controls",
          "model_name": "FloatProgressModel",
          "model_module_version": "1.5.0",
          "state": {
            "_dom_classes": [],
            "_model_module": "@jupyter-widgets/controls",
            "_model_module_version": "1.5.0",
            "_model_name": "FloatProgressModel",
            "_view_count": null,
            "_view_module": "@jupyter-widgets/controls",
            "_view_module_version": "1.5.0",
            "_view_name": "ProgressView",
            "bar_style": "success",
            "description": "",
            "description_tooltip": null,
            "layout": "IPY_MODEL_cbc4d9e784264f72979eaaf0be522298",
            "max": 714355318,
            "min": 0,
            "orientation": "horizontal",
            "style": "IPY_MODEL_9ae8b6cc871c46a5a49c40bdde16a9e8",
            "value": 714355318
          }
        },
        "5c214b6c03de422182e72e65c36eeafa": {
          "model_module": "@jupyter-widgets/controls",
          "model_name": "HTMLModel",
          "model_module_version": "1.5.0",
          "state": {
            "_dom_classes": [],
            "_model_module": "@jupyter-widgets/controls",
            "_model_module_version": "1.5.0",
            "_model_name": "HTMLModel",
            "_view_count": null,
            "_view_module": "@jupyter-widgets/controls",
            "_view_module_version": "1.5.0",
            "_view_name": "HTMLView",
            "description": "",
            "description_tooltip": null,
            "layout": "IPY_MODEL_b8219b2ccc5747ef96134f5dfd57c46b",
            "placeholder": "​",
            "style": "IPY_MODEL_2dab4066ff154bed94b0796c90b71dd4",
            "value": " 714M/714M [00:06&lt;00:00, 113MB/s]"
          }
        },
        "c9b707f58d2b485b92cd61e12fa27db4": {
          "model_module": "@jupyter-widgets/base",
          "model_name": "LayoutModel",
          "model_module_version": "1.2.0",
          "state": {
            "_model_module": "@jupyter-widgets/base",
            "_model_module_version": "1.2.0",
            "_model_name": "LayoutModel",
            "_view_count": null,
            "_view_module": "@jupyter-widgets/base",
            "_view_module_version": "1.2.0",
            "_view_name": "LayoutView",
            "align_content": null,
            "align_items": null,
            "align_self": null,
            "border": null,
            "bottom": null,
            "display": null,
            "flex": null,
            "flex_flow": null,
            "grid_area": null,
            "grid_auto_columns": null,
            "grid_auto_flow": null,
            "grid_auto_rows": null,
            "grid_column": null,
            "grid_gap": null,
            "grid_row": null,
            "grid_template_areas": null,
            "grid_template_columns": null,
            "grid_template_rows": null,
            "height": null,
            "justify_content": null,
            "justify_items": null,
            "left": null,
            "margin": null,
            "max_height": null,
            "max_width": null,
            "min_height": null,
            "min_width": null,
            "object_fit": null,
            "object_position": null,
            "order": null,
            "overflow": null,
            "overflow_x": null,
            "overflow_y": null,
            "padding": null,
            "right": null,
            "top": null,
            "visibility": null,
            "width": null
          }
        },
        "654bc78fbd55453bb69f9bbb6826903b": {
          "model_module": "@jupyter-widgets/base",
          "model_name": "LayoutModel",
          "model_module_version": "1.2.0",
          "state": {
            "_model_module": "@jupyter-widgets/base",
            "_model_module_version": "1.2.0",
            "_model_name": "LayoutModel",
            "_view_count": null,
            "_view_module": "@jupyter-widgets/base",
            "_view_module_version": "1.2.0",
            "_view_name": "LayoutView",
            "align_content": null,
            "align_items": null,
            "align_self": null,
            "border": null,
            "bottom": null,
            "display": null,
            "flex": null,
            "flex_flow": null,
            "grid_area": null,
            "grid_auto_columns": null,
            "grid_auto_flow": null,
            "grid_auto_rows": null,
            "grid_column": null,
            "grid_gap": null,
            "grid_row": null,
            "grid_template_areas": null,
            "grid_template_columns": null,
            "grid_template_rows": null,
            "height": null,
            "justify_content": null,
            "justify_items": null,
            "left": null,
            "margin": null,
            "max_height": null,
            "max_width": null,
            "min_height": null,
            "min_width": null,
            "object_fit": null,
            "object_position": null,
            "order": null,
            "overflow": null,
            "overflow_x": null,
            "overflow_y": null,
            "padding": null,
            "right": null,
            "top": null,
            "visibility": null,
            "width": null
          }
        },
        "155e1d3e9ca34ca6a6a3e3ca43a94014": {
          "model_module": "@jupyter-widgets/controls",
          "model_name": "DescriptionStyleModel",
          "model_module_version": "1.5.0",
          "state": {
            "_model_module": "@jupyter-widgets/controls",
            "_model_module_version": "1.5.0",
            "_model_name": "DescriptionStyleModel",
            "_view_count": null,
            "_view_module": "@jupyter-widgets/base",
            "_view_module_version": "1.2.0",
            "_view_name": "StyleView",
            "description_width": ""
          }
        },
        "cbc4d9e784264f72979eaaf0be522298": {
          "model_module": "@jupyter-widgets/base",
          "model_name": "LayoutModel",
          "model_module_version": "1.2.0",
          "state": {
            "_model_module": "@jupyter-widgets/base",
            "_model_module_version": "1.2.0",
            "_model_name": "LayoutModel",
            "_view_count": null,
            "_view_module": "@jupyter-widgets/base",
            "_view_module_version": "1.2.0",
            "_view_name": "LayoutView",
            "align_content": null,
            "align_items": null,
            "align_self": null,
            "border": null,
            "bottom": null,
            "display": null,
            "flex": null,
            "flex_flow": null,
            "grid_area": null,
            "grid_auto_columns": null,
            "grid_auto_flow": null,
            "grid_auto_rows": null,
            "grid_column": null,
            "grid_gap": null,
            "grid_row": null,
            "grid_template_areas": null,
            "grid_template_columns": null,
            "grid_template_rows": null,
            "height": null,
            "justify_content": null,
            "justify_items": null,
            "left": null,
            "margin": null,
            "max_height": null,
            "max_width": null,
            "min_height": null,
            "min_width": null,
            "object_fit": null,
            "object_position": null,
            "order": null,
            "overflow": null,
            "overflow_x": null,
            "overflow_y": null,
            "padding": null,
            "right": null,
            "top": null,
            "visibility": null,
            "width": null
          }
        },
        "9ae8b6cc871c46a5a49c40bdde16a9e8": {
          "model_module": "@jupyter-widgets/controls",
          "model_name": "ProgressStyleModel",
          "model_module_version": "1.5.0",
          "state": {
            "_model_module": "@jupyter-widgets/controls",
            "_model_module_version": "1.5.0",
            "_model_name": "ProgressStyleModel",
            "_view_count": null,
            "_view_module": "@jupyter-widgets/base",
            "_view_module_version": "1.2.0",
            "_view_name": "StyleView",
            "bar_color": null,
            "description_width": ""
          }
        },
        "b8219b2ccc5747ef96134f5dfd57c46b": {
          "model_module": "@jupyter-widgets/base",
          "model_name": "LayoutModel",
          "model_module_version": "1.2.0",
          "state": {
            "_model_module": "@jupyter-widgets/base",
            "_model_module_version": "1.2.0",
            "_model_name": "LayoutModel",
            "_view_count": null,
            "_view_module": "@jupyter-widgets/base",
            "_view_module_version": "1.2.0",
            "_view_name": "LayoutView",
            "align_content": null,
            "align_items": null,
            "align_self": null,
            "border": null,
            "bottom": null,
            "display": null,
            "flex": null,
            "flex_flow": null,
            "grid_area": null,
            "grid_auto_columns": null,
            "grid_auto_flow": null,
            "grid_auto_rows": null,
            "grid_column": null,
            "grid_gap": null,
            "grid_row": null,
            "grid_template_areas": null,
            "grid_template_columns": null,
            "grid_template_rows": null,
            "height": null,
            "justify_content": null,
            "justify_items": null,
            "left": null,
            "margin": null,
            "max_height": null,
            "max_width": null,
            "min_height": null,
            "min_width": null,
            "object_fit": null,
            "object_position": null,
            "order": null,
            "overflow": null,
            "overflow_x": null,
            "overflow_y": null,
            "padding": null,
            "right": null,
            "top": null,
            "visibility": null,
            "width": null
          }
        },
        "2dab4066ff154bed94b0796c90b71dd4": {
          "model_module": "@jupyter-widgets/controls",
          "model_name": "DescriptionStyleModel",
          "model_module_version": "1.5.0",
          "state": {
            "_model_module": "@jupyter-widgets/controls",
            "_model_module_version": "1.5.0",
            "_model_name": "DescriptionStyleModel",
            "_view_count": null,
            "_view_module": "@jupyter-widgets/base",
            "_view_module_version": "1.2.0",
            "_view_name": "StyleView",
            "description_width": ""
          }
        },
        "fb88d087ed314ff98c0159a456286b5c": {
          "model_module": "@jupyter-widgets/controls",
          "model_name": "HBoxModel",
          "model_module_version": "1.5.0",
          "state": {
            "_dom_classes": [],
            "_model_module": "@jupyter-widgets/controls",
            "_model_module_version": "1.5.0",
            "_model_name": "HBoxModel",
            "_view_count": null,
            "_view_module": "@jupyter-widgets/controls",
            "_view_module_version": "1.5.0",
            "_view_name": "HBoxView",
            "box_style": "",
            "children": [
              "IPY_MODEL_d09d640e0dca4c80b9a206a581b14c1d",
              "IPY_MODEL_8bc61228c0e74f02a0cf1bb6f2bd11b6",
              "IPY_MODEL_b9c3c79fba544040a684b6be5a213539"
            ],
            "layout": "IPY_MODEL_3aef0451b8664865b2015a480712f555"
          }
        },
        "d09d640e0dca4c80b9a206a581b14c1d": {
          "model_module": "@jupyter-widgets/controls",
          "model_name": "HTMLModel",
          "model_module_version": "1.5.0",
          "state": {
            "_dom_classes": [],
            "_model_module": "@jupyter-widgets/controls",
            "_model_module_version": "1.5.0",
            "_model_name": "HTMLModel",
            "_view_count": null,
            "_view_module": "@jupyter-widgets/controls",
            "_view_module_version": "1.5.0",
            "_view_name": "HTMLView",
            "description": "",
            "description_tooltip": null,
            "layout": "IPY_MODEL_9bd839d7453e4a4f82d32a87026e3068",
            "placeholder": "​",
            "style": "IPY_MODEL_f3dd2471c07947968f5171de7e815cac",
            "value": "Downloading (…)solve/main/vocab.txt: 100%"
          }
        },
        "8bc61228c0e74f02a0cf1bb6f2bd11b6": {
          "model_module": "@jupyter-widgets/controls",
          "model_name": "FloatProgressModel",
          "model_module_version": "1.5.0",
          "state": {
            "_dom_classes": [],
            "_model_module": "@jupyter-widgets/controls",
            "_model_module_version": "1.5.0",
            "_model_name": "FloatProgressModel",
            "_view_count": null,
            "_view_module": "@jupyter-widgets/controls",
            "_view_module_version": "1.5.0",
            "_view_name": "ProgressView",
            "bar_style": "success",
            "description": "",
            "description_tooltip": null,
            "layout": "IPY_MODEL_802fd11c129a410cae5c6ac17b3653e2",
            "max": 1404983,
            "min": 0,
            "orientation": "horizontal",
            "style": "IPY_MODEL_be7377d31adb4789a31d77a307ea56fd",
            "value": 1404983
          }
        },
        "b9c3c79fba544040a684b6be5a213539": {
          "model_module": "@jupyter-widgets/controls",
          "model_name": "HTMLModel",
          "model_module_version": "1.5.0",
          "state": {
            "_dom_classes": [],
            "_model_module": "@jupyter-widgets/controls",
            "_model_module_version": "1.5.0",
            "_model_name": "HTMLModel",
            "_view_count": null,
            "_view_module": "@jupyter-widgets/controls",
            "_view_module_version": "1.5.0",
            "_view_name": "HTMLView",
            "description": "",
            "description_tooltip": null,
            "layout": "IPY_MODEL_ff7f345c69924fbf877b560d1c14ec20",
            "placeholder": "​",
            "style": "IPY_MODEL_de46871b532648abbc7c5cfbea0d566c",
            "value": " 1.40M/1.40M [00:00&lt;00:00, 14.6MB/s]"
          }
        },
        "3aef0451b8664865b2015a480712f555": {
          "model_module": "@jupyter-widgets/base",
          "model_name": "LayoutModel",
          "model_module_version": "1.2.0",
          "state": {
            "_model_module": "@jupyter-widgets/base",
            "_model_module_version": "1.2.0",
            "_model_name": "LayoutModel",
            "_view_count": null,
            "_view_module": "@jupyter-widgets/base",
            "_view_module_version": "1.2.0",
            "_view_name": "LayoutView",
            "align_content": null,
            "align_items": null,
            "align_self": null,
            "border": null,
            "bottom": null,
            "display": null,
            "flex": null,
            "flex_flow": null,
            "grid_area": null,
            "grid_auto_columns": null,
            "grid_auto_flow": null,
            "grid_auto_rows": null,
            "grid_column": null,
            "grid_gap": null,
            "grid_row": null,
            "grid_template_areas": null,
            "grid_template_columns": null,
            "grid_template_rows": null,
            "height": null,
            "justify_content": null,
            "justify_items": null,
            "left": null,
            "margin": null,
            "max_height": null,
            "max_width": null,
            "min_height": null,
            "min_width": null,
            "object_fit": null,
            "object_position": null,
            "order": null,
            "overflow": null,
            "overflow_x": null,
            "overflow_y": null,
            "padding": null,
            "right": null,
            "top": null,
            "visibility": null,
            "width": null
          }
        },
        "9bd839d7453e4a4f82d32a87026e3068": {
          "model_module": "@jupyter-widgets/base",
          "model_name": "LayoutModel",
          "model_module_version": "1.2.0",
          "state": {
            "_model_module": "@jupyter-widgets/base",
            "_model_module_version": "1.2.0",
            "_model_name": "LayoutModel",
            "_view_count": null,
            "_view_module": "@jupyter-widgets/base",
            "_view_module_version": "1.2.0",
            "_view_name": "LayoutView",
            "align_content": null,
            "align_items": null,
            "align_self": null,
            "border": null,
            "bottom": null,
            "display": null,
            "flex": null,
            "flex_flow": null,
            "grid_area": null,
            "grid_auto_columns": null,
            "grid_auto_flow": null,
            "grid_auto_rows": null,
            "grid_column": null,
            "grid_gap": null,
            "grid_row": null,
            "grid_template_areas": null,
            "grid_template_columns": null,
            "grid_template_rows": null,
            "height": null,
            "justify_content": null,
            "justify_items": null,
            "left": null,
            "margin": null,
            "max_height": null,
            "max_width": null,
            "min_height": null,
            "min_width": null,
            "object_fit": null,
            "object_position": null,
            "order": null,
            "overflow": null,
            "overflow_x": null,
            "overflow_y": null,
            "padding": null,
            "right": null,
            "top": null,
            "visibility": null,
            "width": null
          }
        },
        "f3dd2471c07947968f5171de7e815cac": {
          "model_module": "@jupyter-widgets/controls",
          "model_name": "DescriptionStyleModel",
          "model_module_version": "1.5.0",
          "state": {
            "_model_module": "@jupyter-widgets/controls",
            "_model_module_version": "1.5.0",
            "_model_name": "DescriptionStyleModel",
            "_view_count": null,
            "_view_module": "@jupyter-widgets/base",
            "_view_module_version": "1.2.0",
            "_view_name": "StyleView",
            "description_width": ""
          }
        },
        "802fd11c129a410cae5c6ac17b3653e2": {
          "model_module": "@jupyter-widgets/base",
          "model_name": "LayoutModel",
          "model_module_version": "1.2.0",
          "state": {
            "_model_module": "@jupyter-widgets/base",
            "_model_module_version": "1.2.0",
            "_model_name": "LayoutModel",
            "_view_count": null,
            "_view_module": "@jupyter-widgets/base",
            "_view_module_version": "1.2.0",
            "_view_name": "LayoutView",
            "align_content": null,
            "align_items": null,
            "align_self": null,
            "border": null,
            "bottom": null,
            "display": null,
            "flex": null,
            "flex_flow": null,
            "grid_area": null,
            "grid_auto_columns": null,
            "grid_auto_flow": null,
            "grid_auto_rows": null,
            "grid_column": null,
            "grid_gap": null,
            "grid_row": null,
            "grid_template_areas": null,
            "grid_template_columns": null,
            "grid_template_rows": null,
            "height": null,
            "justify_content": null,
            "justify_items": null,
            "left": null,
            "margin": null,
            "max_height": null,
            "max_width": null,
            "min_height": null,
            "min_width": null,
            "object_fit": null,
            "object_position": null,
            "order": null,
            "overflow": null,
            "overflow_x": null,
            "overflow_y": null,
            "padding": null,
            "right": null,
            "top": null,
            "visibility": null,
            "width": null
          }
        },
        "be7377d31adb4789a31d77a307ea56fd": {
          "model_module": "@jupyter-widgets/controls",
          "model_name": "ProgressStyleModel",
          "model_module_version": "1.5.0",
          "state": {
            "_model_module": "@jupyter-widgets/controls",
            "_model_module_version": "1.5.0",
            "_model_name": "ProgressStyleModel",
            "_view_count": null,
            "_view_module": "@jupyter-widgets/base",
            "_view_module_version": "1.2.0",
            "_view_name": "StyleView",
            "bar_color": null,
            "description_width": ""
          }
        },
        "ff7f345c69924fbf877b560d1c14ec20": {
          "model_module": "@jupyter-widgets/base",
          "model_name": "LayoutModel",
          "model_module_version": "1.2.0",
          "state": {
            "_model_module": "@jupyter-widgets/base",
            "_model_module_version": "1.2.0",
            "_model_name": "LayoutModel",
            "_view_count": null,
            "_view_module": "@jupyter-widgets/base",
            "_view_module_version": "1.2.0",
            "_view_name": "LayoutView",
            "align_content": null,
            "align_items": null,
            "align_self": null,
            "border": null,
            "bottom": null,
            "display": null,
            "flex": null,
            "flex_flow": null,
            "grid_area": null,
            "grid_auto_columns": null,
            "grid_auto_flow": null,
            "grid_auto_rows": null,
            "grid_column": null,
            "grid_gap": null,
            "grid_row": null,
            "grid_template_areas": null,
            "grid_template_columns": null,
            "grid_template_rows": null,
            "height": null,
            "justify_content": null,
            "justify_items": null,
            "left": null,
            "margin": null,
            "max_height": null,
            "max_width": null,
            "min_height": null,
            "min_width": null,
            "object_fit": null,
            "object_position": null,
            "order": null,
            "overflow": null,
            "overflow_x": null,
            "overflow_y": null,
            "padding": null,
            "right": null,
            "top": null,
            "visibility": null,
            "width": null
          }
        },
        "de46871b532648abbc7c5cfbea0d566c": {
          "model_module": "@jupyter-widgets/controls",
          "model_name": "DescriptionStyleModel",
          "model_module_version": "1.5.0",
          "state": {
            "_model_module": "@jupyter-widgets/controls",
            "_model_module_version": "1.5.0",
            "_model_name": "DescriptionStyleModel",
            "_view_count": null,
            "_view_module": "@jupyter-widgets/base",
            "_view_module_version": "1.2.0",
            "_view_name": "StyleView",
            "description_width": ""
          }
        },
        "5c57bf63ef1241278540d4e2cdad4a04": {
          "model_module": "@jupyter-widgets/controls",
          "model_name": "HBoxModel",
          "model_module_version": "1.5.0",
          "state": {
            "_dom_classes": [],
            "_model_module": "@jupyter-widgets/controls",
            "_model_module_version": "1.5.0",
            "_model_name": "HBoxModel",
            "_view_count": null,
            "_view_module": "@jupyter-widgets/controls",
            "_view_module_version": "1.5.0",
            "_view_name": "HBoxView",
            "box_style": "",
            "children": [
              "IPY_MODEL_45a01b5820ee4fae9bc3c4ad19525c96",
              "IPY_MODEL_7e369f9781284f64a0f9df6393c4faeb",
              "IPY_MODEL_72dc59ced19e4e2999e64a725a3625d5"
            ],
            "layout": "IPY_MODEL_693a56f1e52541218e16acfe78fafe90"
          }
        },
        "45a01b5820ee4fae9bc3c4ad19525c96": {
          "model_module": "@jupyter-widgets/controls",
          "model_name": "HTMLModel",
          "model_module_version": "1.5.0",
          "state": {
            "_dom_classes": [],
            "_model_module": "@jupyter-widgets/controls",
            "_model_module_version": "1.5.0",
            "_model_name": "HTMLModel",
            "_view_count": null,
            "_view_module": "@jupyter-widgets/controls",
            "_view_module_version": "1.5.0",
            "_view_name": "HTMLView",
            "description": "",
            "description_tooltip": null,
            "layout": "IPY_MODEL_31efb1e3b8ee4650807fda35421a0185",
            "placeholder": "​",
            "style": "IPY_MODEL_67c04e579d224abf8190f921495922ac",
            "value": "Downloading (…)cial_tokens_map.json: 100%"
          }
        },
        "7e369f9781284f64a0f9df6393c4faeb": {
          "model_module": "@jupyter-widgets/controls",
          "model_name": "FloatProgressModel",
          "model_module_version": "1.5.0",
          "state": {
            "_dom_classes": [],
            "_model_module": "@jupyter-widgets/controls",
            "_model_module_version": "1.5.0",
            "_model_name": "FloatProgressModel",
            "_view_count": null,
            "_view_module": "@jupyter-widgets/controls",
            "_view_module_version": "1.5.0",
            "_view_name": "ProgressView",
            "bar_style": "success",
            "description": "",
            "description_tooltip": null,
            "layout": "IPY_MODEL_2cc9655da65a4b5d8233a178af7da6be",
            "max": 112,
            "min": 0,
            "orientation": "horizontal",
            "style": "IPY_MODEL_94d101e6271749ca9602ca1d403b0a62",
            "value": 112
          }
        },
        "72dc59ced19e4e2999e64a725a3625d5": {
          "model_module": "@jupyter-widgets/controls",
          "model_name": "HTMLModel",
          "model_module_version": "1.5.0",
          "state": {
            "_dom_classes": [],
            "_model_module": "@jupyter-widgets/controls",
            "_model_module_version": "1.5.0",
            "_model_name": "HTMLModel",
            "_view_count": null,
            "_view_module": "@jupyter-widgets/controls",
            "_view_module_version": "1.5.0",
            "_view_name": "HTMLView",
            "description": "",
            "description_tooltip": null,
            "layout": "IPY_MODEL_ee00f0bda384482b854506e6a5d13132",
            "placeholder": "​",
            "style": "IPY_MODEL_c8b67f8890fa4a599a65ece29a8054a2",
            "value": " 112/112 [00:00&lt;00:00, 4.39kB/s]"
          }
        },
        "693a56f1e52541218e16acfe78fafe90": {
          "model_module": "@jupyter-widgets/base",
          "model_name": "LayoutModel",
          "model_module_version": "1.2.0",
          "state": {
            "_model_module": "@jupyter-widgets/base",
            "_model_module_version": "1.2.0",
            "_model_name": "LayoutModel",
            "_view_count": null,
            "_view_module": "@jupyter-widgets/base",
            "_view_module_version": "1.2.0",
            "_view_name": "LayoutView",
            "align_content": null,
            "align_items": null,
            "align_self": null,
            "border": null,
            "bottom": null,
            "display": null,
            "flex": null,
            "flex_flow": null,
            "grid_area": null,
            "grid_auto_columns": null,
            "grid_auto_flow": null,
            "grid_auto_rows": null,
            "grid_column": null,
            "grid_gap": null,
            "grid_row": null,
            "grid_template_areas": null,
            "grid_template_columns": null,
            "grid_template_rows": null,
            "height": null,
            "justify_content": null,
            "justify_items": null,
            "left": null,
            "margin": null,
            "max_height": null,
            "max_width": null,
            "min_height": null,
            "min_width": null,
            "object_fit": null,
            "object_position": null,
            "order": null,
            "overflow": null,
            "overflow_x": null,
            "overflow_y": null,
            "padding": null,
            "right": null,
            "top": null,
            "visibility": null,
            "width": null
          }
        },
        "31efb1e3b8ee4650807fda35421a0185": {
          "model_module": "@jupyter-widgets/base",
          "model_name": "LayoutModel",
          "model_module_version": "1.2.0",
          "state": {
            "_model_module": "@jupyter-widgets/base",
            "_model_module_version": "1.2.0",
            "_model_name": "LayoutModel",
            "_view_count": null,
            "_view_module": "@jupyter-widgets/base",
            "_view_module_version": "1.2.0",
            "_view_name": "LayoutView",
            "align_content": null,
            "align_items": null,
            "align_self": null,
            "border": null,
            "bottom": null,
            "display": null,
            "flex": null,
            "flex_flow": null,
            "grid_area": null,
            "grid_auto_columns": null,
            "grid_auto_flow": null,
            "grid_auto_rows": null,
            "grid_column": null,
            "grid_gap": null,
            "grid_row": null,
            "grid_template_areas": null,
            "grid_template_columns": null,
            "grid_template_rows": null,
            "height": null,
            "justify_content": null,
            "justify_items": null,
            "left": null,
            "margin": null,
            "max_height": null,
            "max_width": null,
            "min_height": null,
            "min_width": null,
            "object_fit": null,
            "object_position": null,
            "order": null,
            "overflow": null,
            "overflow_x": null,
            "overflow_y": null,
            "padding": null,
            "right": null,
            "top": null,
            "visibility": null,
            "width": null
          }
        },
        "67c04e579d224abf8190f921495922ac": {
          "model_module": "@jupyter-widgets/controls",
          "model_name": "DescriptionStyleModel",
          "model_module_version": "1.5.0",
          "state": {
            "_model_module": "@jupyter-widgets/controls",
            "_model_module_version": "1.5.0",
            "_model_name": "DescriptionStyleModel",
            "_view_count": null,
            "_view_module": "@jupyter-widgets/base",
            "_view_module_version": "1.2.0",
            "_view_name": "StyleView",
            "description_width": ""
          }
        },
        "2cc9655da65a4b5d8233a178af7da6be": {
          "model_module": "@jupyter-widgets/base",
          "model_name": "LayoutModel",
          "model_module_version": "1.2.0",
          "state": {
            "_model_module": "@jupyter-widgets/base",
            "_model_module_version": "1.2.0",
            "_model_name": "LayoutModel",
            "_view_count": null,
            "_view_module": "@jupyter-widgets/base",
            "_view_module_version": "1.2.0",
            "_view_name": "LayoutView",
            "align_content": null,
            "align_items": null,
            "align_self": null,
            "border": null,
            "bottom": null,
            "display": null,
            "flex": null,
            "flex_flow": null,
            "grid_area": null,
            "grid_auto_columns": null,
            "grid_auto_flow": null,
            "grid_auto_rows": null,
            "grid_column": null,
            "grid_gap": null,
            "grid_row": null,
            "grid_template_areas": null,
            "grid_template_columns": null,
            "grid_template_rows": null,
            "height": null,
            "justify_content": null,
            "justify_items": null,
            "left": null,
            "margin": null,
            "max_height": null,
            "max_width": null,
            "min_height": null,
            "min_width": null,
            "object_fit": null,
            "object_position": null,
            "order": null,
            "overflow": null,
            "overflow_x": null,
            "overflow_y": null,
            "padding": null,
            "right": null,
            "top": null,
            "visibility": null,
            "width": null
          }
        },
        "94d101e6271749ca9602ca1d403b0a62": {
          "model_module": "@jupyter-widgets/controls",
          "model_name": "ProgressStyleModel",
          "model_module_version": "1.5.0",
          "state": {
            "_model_module": "@jupyter-widgets/controls",
            "_model_module_version": "1.5.0",
            "_model_name": "ProgressStyleModel",
            "_view_count": null,
            "_view_module": "@jupyter-widgets/base",
            "_view_module_version": "1.2.0",
            "_view_name": "StyleView",
            "bar_color": null,
            "description_width": ""
          }
        },
        "ee00f0bda384482b854506e6a5d13132": {
          "model_module": "@jupyter-widgets/base",
          "model_name": "LayoutModel",
          "model_module_version": "1.2.0",
          "state": {
            "_model_module": "@jupyter-widgets/base",
            "_model_module_version": "1.2.0",
            "_model_name": "LayoutModel",
            "_view_count": null,
            "_view_module": "@jupyter-widgets/base",
            "_view_module_version": "1.2.0",
            "_view_name": "LayoutView",
            "align_content": null,
            "align_items": null,
            "align_self": null,
            "border": null,
            "bottom": null,
            "display": null,
            "flex": null,
            "flex_flow": null,
            "grid_area": null,
            "grid_auto_columns": null,
            "grid_auto_flow": null,
            "grid_auto_rows": null,
            "grid_column": null,
            "grid_gap": null,
            "grid_row": null,
            "grid_template_areas": null,
            "grid_template_columns": null,
            "grid_template_rows": null,
            "height": null,
            "justify_content": null,
            "justify_items": null,
            "left": null,
            "margin": null,
            "max_height": null,
            "max_width": null,
            "min_height": null,
            "min_width": null,
            "object_fit": null,
            "object_position": null,
            "order": null,
            "overflow": null,
            "overflow_x": null,
            "overflow_y": null,
            "padding": null,
            "right": null,
            "top": null,
            "visibility": null,
            "width": null
          }
        },
        "c8b67f8890fa4a599a65ece29a8054a2": {
          "model_module": "@jupyter-widgets/controls",
          "model_name": "DescriptionStyleModel",
          "model_module_version": "1.5.0",
          "state": {
            "_model_module": "@jupyter-widgets/controls",
            "_model_module_version": "1.5.0",
            "_model_name": "DescriptionStyleModel",
            "_view_count": null,
            "_view_module": "@jupyter-widgets/base",
            "_view_module_version": "1.2.0",
            "_view_name": "StyleView",
            "description_width": ""
          }
        },
        "8e95f9df271e440fad1bac30eda89c6f": {
          "model_module": "@jupyter-widgets/controls",
          "model_name": "HBoxModel",
          "model_module_version": "1.5.0",
          "state": {
            "_dom_classes": [],
            "_model_module": "@jupyter-widgets/controls",
            "_model_module_version": "1.5.0",
            "_model_name": "HBoxModel",
            "_view_count": null,
            "_view_module": "@jupyter-widgets/controls",
            "_view_module_version": "1.5.0",
            "_view_name": "HBoxView",
            "box_style": "",
            "children": [
              "IPY_MODEL_2177755e06294ddbb4f79172ec26168e",
              "IPY_MODEL_cd53a67a6db240e9a09b13bf7f86681e",
              "IPY_MODEL_b3f432a43cbf497981e6942bbe685313"
            ],
            "layout": "IPY_MODEL_7a7e5926885540d8b867d48622f2edef"
          }
        },
        "2177755e06294ddbb4f79172ec26168e": {
          "model_module": "@jupyter-widgets/controls",
          "model_name": "HTMLModel",
          "model_module_version": "1.5.0",
          "state": {
            "_dom_classes": [],
            "_model_module": "@jupyter-widgets/controls",
            "_model_module_version": "1.5.0",
            "_model_name": "HTMLModel",
            "_view_count": null,
            "_view_module": "@jupyter-widgets/controls",
            "_view_module_version": "1.5.0",
            "_view_name": "HTMLView",
            "description": "",
            "description_tooltip": null,
            "layout": "IPY_MODEL_deb2409512ec439cbf9a467a9583a841",
            "placeholder": "​",
            "style": "IPY_MODEL_8b6a3d958062470aa74036319ab70726",
            "value": "Downloading (…)okenizer_config.json: 100%"
          }
        },
        "cd53a67a6db240e9a09b13bf7f86681e": {
          "model_module": "@jupyter-widgets/controls",
          "model_name": "FloatProgressModel",
          "model_module_version": "1.5.0",
          "state": {
            "_dom_classes": [],
            "_model_module": "@jupyter-widgets/controls",
            "_model_module_version": "1.5.0",
            "_model_name": "FloatProgressModel",
            "_view_count": null,
            "_view_module": "@jupyter-widgets/controls",
            "_view_module_version": "1.5.0",
            "_view_name": "ProgressView",
            "bar_style": "success",
            "description": "",
            "description_tooltip": null,
            "layout": "IPY_MODEL_c7c2f0bc8ed24a5e8791436b203ee597",
            "max": 24,
            "min": 0,
            "orientation": "horizontal",
            "style": "IPY_MODEL_118cfc674b7745579c832b879ad5ddfa",
            "value": 24
          }
        },
        "b3f432a43cbf497981e6942bbe685313": {
          "model_module": "@jupyter-widgets/controls",
          "model_name": "HTMLModel",
          "model_module_version": "1.5.0",
          "state": {
            "_dom_classes": [],
            "_model_module": "@jupyter-widgets/controls",
            "_model_module_version": "1.5.0",
            "_model_name": "HTMLModel",
            "_view_count": null,
            "_view_module": "@jupyter-widgets/controls",
            "_view_module_version": "1.5.0",
            "_view_name": "HTMLView",
            "description": "",
            "description_tooltip": null,
            "layout": "IPY_MODEL_0020d8a4597b493986f0d642fb80d726",
            "placeholder": "​",
            "style": "IPY_MODEL_5cbe248e2e934374a1a4752a8355c914",
            "value": " 24.0/24.0 [00:00&lt;00:00, 411B/s]"
          }
        },
        "7a7e5926885540d8b867d48622f2edef": {
          "model_module": "@jupyter-widgets/base",
          "model_name": "LayoutModel",
          "model_module_version": "1.2.0",
          "state": {
            "_model_module": "@jupyter-widgets/base",
            "_model_module_version": "1.2.0",
            "_model_name": "LayoutModel",
            "_view_count": null,
            "_view_module": "@jupyter-widgets/base",
            "_view_module_version": "1.2.0",
            "_view_name": "LayoutView",
            "align_content": null,
            "align_items": null,
            "align_self": null,
            "border": null,
            "bottom": null,
            "display": null,
            "flex": null,
            "flex_flow": null,
            "grid_area": null,
            "grid_auto_columns": null,
            "grid_auto_flow": null,
            "grid_auto_rows": null,
            "grid_column": null,
            "grid_gap": null,
            "grid_row": null,
            "grid_template_areas": null,
            "grid_template_columns": null,
            "grid_template_rows": null,
            "height": null,
            "justify_content": null,
            "justify_items": null,
            "left": null,
            "margin": null,
            "max_height": null,
            "max_width": null,
            "min_height": null,
            "min_width": null,
            "object_fit": null,
            "object_position": null,
            "order": null,
            "overflow": null,
            "overflow_x": null,
            "overflow_y": null,
            "padding": null,
            "right": null,
            "top": null,
            "visibility": null,
            "width": null
          }
        },
        "deb2409512ec439cbf9a467a9583a841": {
          "model_module": "@jupyter-widgets/base",
          "model_name": "LayoutModel",
          "model_module_version": "1.2.0",
          "state": {
            "_model_module": "@jupyter-widgets/base",
            "_model_module_version": "1.2.0",
            "_model_name": "LayoutModel",
            "_view_count": null,
            "_view_module": "@jupyter-widgets/base",
            "_view_module_version": "1.2.0",
            "_view_name": "LayoutView",
            "align_content": null,
            "align_items": null,
            "align_self": null,
            "border": null,
            "bottom": null,
            "display": null,
            "flex": null,
            "flex_flow": null,
            "grid_area": null,
            "grid_auto_columns": null,
            "grid_auto_flow": null,
            "grid_auto_rows": null,
            "grid_column": null,
            "grid_gap": null,
            "grid_row": null,
            "grid_template_areas": null,
            "grid_template_columns": null,
            "grid_template_rows": null,
            "height": null,
            "justify_content": null,
            "justify_items": null,
            "left": null,
            "margin": null,
            "max_height": null,
            "max_width": null,
            "min_height": null,
            "min_width": null,
            "object_fit": null,
            "object_position": null,
            "order": null,
            "overflow": null,
            "overflow_x": null,
            "overflow_y": null,
            "padding": null,
            "right": null,
            "top": null,
            "visibility": null,
            "width": null
          }
        },
        "8b6a3d958062470aa74036319ab70726": {
          "model_module": "@jupyter-widgets/controls",
          "model_name": "DescriptionStyleModel",
          "model_module_version": "1.5.0",
          "state": {
            "_model_module": "@jupyter-widgets/controls",
            "_model_module_version": "1.5.0",
            "_model_name": "DescriptionStyleModel",
            "_view_count": null,
            "_view_module": "@jupyter-widgets/base",
            "_view_module_version": "1.2.0",
            "_view_name": "StyleView",
            "description_width": ""
          }
        },
        "c7c2f0bc8ed24a5e8791436b203ee597": {
          "model_module": "@jupyter-widgets/base",
          "model_name": "LayoutModel",
          "model_module_version": "1.2.0",
          "state": {
            "_model_module": "@jupyter-widgets/base",
            "_model_module_version": "1.2.0",
            "_model_name": "LayoutModel",
            "_view_count": null,
            "_view_module": "@jupyter-widgets/base",
            "_view_module_version": "1.2.0",
            "_view_name": "LayoutView",
            "align_content": null,
            "align_items": null,
            "align_self": null,
            "border": null,
            "bottom": null,
            "display": null,
            "flex": null,
            "flex_flow": null,
            "grid_area": null,
            "grid_auto_columns": null,
            "grid_auto_flow": null,
            "grid_auto_rows": null,
            "grid_column": null,
            "grid_gap": null,
            "grid_row": null,
            "grid_template_areas": null,
            "grid_template_columns": null,
            "grid_template_rows": null,
            "height": null,
            "justify_content": null,
            "justify_items": null,
            "left": null,
            "margin": null,
            "max_height": null,
            "max_width": null,
            "min_height": null,
            "min_width": null,
            "object_fit": null,
            "object_position": null,
            "order": null,
            "overflow": null,
            "overflow_x": null,
            "overflow_y": null,
            "padding": null,
            "right": null,
            "top": null,
            "visibility": null,
            "width": null
          }
        },
        "118cfc674b7745579c832b879ad5ddfa": {
          "model_module": "@jupyter-widgets/controls",
          "model_name": "ProgressStyleModel",
          "model_module_version": "1.5.0",
          "state": {
            "_model_module": "@jupyter-widgets/controls",
            "_model_module_version": "1.5.0",
            "_model_name": "ProgressStyleModel",
            "_view_count": null,
            "_view_module": "@jupyter-widgets/base",
            "_view_module_version": "1.2.0",
            "_view_name": "StyleView",
            "bar_color": null,
            "description_width": ""
          }
        },
        "0020d8a4597b493986f0d642fb80d726": {
          "model_module": "@jupyter-widgets/base",
          "model_name": "LayoutModel",
          "model_module_version": "1.2.0",
          "state": {
            "_model_module": "@jupyter-widgets/base",
            "_model_module_version": "1.2.0",
            "_model_name": "LayoutModel",
            "_view_count": null,
            "_view_module": "@jupyter-widgets/base",
            "_view_module_version": "1.2.0",
            "_view_name": "LayoutView",
            "align_content": null,
            "align_items": null,
            "align_self": null,
            "border": null,
            "bottom": null,
            "display": null,
            "flex": null,
            "flex_flow": null,
            "grid_area": null,
            "grid_auto_columns": null,
            "grid_auto_flow": null,
            "grid_auto_rows": null,
            "grid_column": null,
            "grid_gap": null,
            "grid_row": null,
            "grid_template_areas": null,
            "grid_template_columns": null,
            "grid_template_rows": null,
            "height": null,
            "justify_content": null,
            "justify_items": null,
            "left": null,
            "margin": null,
            "max_height": null,
            "max_width": null,
            "min_height": null,
            "min_width": null,
            "object_fit": null,
            "object_position": null,
            "order": null,
            "overflow": null,
            "overflow_x": null,
            "overflow_y": null,
            "padding": null,
            "right": null,
            "top": null,
            "visibility": null,
            "width": null
          }
        },
        "5cbe248e2e934374a1a4752a8355c914": {
          "model_module": "@jupyter-widgets/controls",
          "model_name": "DescriptionStyleModel",
          "model_module_version": "1.5.0",
          "state": {
            "_model_module": "@jupyter-widgets/controls",
            "_model_module_version": "1.5.0",
            "_model_name": "DescriptionStyleModel",
            "_view_count": null,
            "_view_module": "@jupyter-widgets/base",
            "_view_module_version": "1.2.0",
            "_view_name": "StyleView",
            "description_width": ""
          }
        }
      }
    }
  },
  "nbformat": 4,
  "nbformat_minor": 0
}